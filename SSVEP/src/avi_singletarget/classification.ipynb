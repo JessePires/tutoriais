{
 "cells": [
  {
   "cell_type": "code",
   "execution_count": 11,
   "metadata": {},
   "outputs": [],
   "source": [
    "%matplotlib inline\n",
    "import matplotlib.pyplot as plt\n",
    "from matplotlib import rcParams\n",
    "import numpy as np\n",
    "from scipy import signal\n",
    "from sklearn.preprocessing import LabelEncoder\n",
    "import mne"
   ]
  },
  {
   "cell_type": "code",
   "execution_count": 12,
   "metadata": {},
   "outputs": [
    {
     "name": "stdout",
     "output_type": "stream",
     "text": [
      "Reading /home/jhonatancunha/UTFPR/8Periodo/padroes/tutoriais/SSVEP/src/avi_singletarget/avi_singletarget.fif ...\n",
      "Isotrak not found\n",
      "    Found the data of interest:\n",
      "        t =       0.00 ...   29998.05 ms\n",
      "        0 CTF compensation matrices available\n",
      "Not setting metadata\n",
      "84 matching events found\n",
      "No baseline correction applied\n",
      "0 projection items activated\n"
     ]
    },
    {
     "name": "stderr",
     "output_type": "stream",
     "text": [
      "/tmp/ipykernel_13896/113162009.py:1: RuntimeWarning: This filename (avi_singletarget.fif) does not conform to MNE naming conventions. All epochs files should end with -epo.fif, -epo.fif.gz, _epo.fif or _epo.fif.gz\n",
      "  mne_data = mne.read_epochs('avi_singletarget.fif')\n"
     ]
    },
    {
     "data": {
      "text/html": [
       "<table class=\"table table-hover table-striped table-sm table-responsive small\">\n",
       "    <tr>\n",
       "        <th>Number of events</th>\n",
       "        <td>84</td>\n",
       "    </tr>\n",
       "    <tr>\n",
       "        <th>Events</th>\n",
       "        \n",
       "        <td>10.0: 12<br/>6.0: 12<br/>6.5: 12<br/>7.0: 12<br/>7.5: 12<br/>8.2: 12<br/>9.3: 12</td>\n",
       "        \n",
       "    </tr>\n",
       "    <tr>\n",
       "        <th>Time range</th>\n",
       "        <td>0.000 – 29.998 s</td>\n",
       "    </tr>\n",
       "    <tr>\n",
       "        <th>Baseline</th>\n",
       "        <td>off</td>\n",
       "    </tr>\n",
       "</table>"
      ],
      "text/plain": [
       "<EpochsFIF |  84 events (all good), 0 – 29.998 s, baseline off, ~9.9 MB, data loaded,\n",
       " '6.0': 12\n",
       " '6.5': 12\n",
       " '7.0': 12\n",
       " '7.5': 12\n",
       " '8.2': 12\n",
       " '9.3': 12\n",
       " '10.0': 12>"
      ]
     },
     "execution_count": 12,
     "metadata": {},
     "output_type": "execute_result"
    }
   ],
   "source": [
    "mne_data = mne.read_epochs('avi_singletarget.fif')\n",
    "mne_data"
   ]
  },
  {
   "cell_type": "code",
   "execution_count": 13,
   "metadata": {},
   "outputs": [
    {
     "name": "stdout",
     "output_type": "stream",
     "text": [
      "[10.  10.  10.   6.5  6.5  6.5  6.   6.   6.   7.5  7.5  7.5  7.   7.\n",
      "  7.   8.2  8.2  8.2  9.3  9.3  9.3 10.  10.  10.   6.5  6.5  6.5  6.\n",
      "  6.   6.   7.5  7.5  7.5  7.   7.   7.   8.2  8.2  8.2  9.3  9.3  9.3\n",
      " 10.  10.  10.   6.5  6.5  6.5  6.   6.   6.   7.5  7.5  7.5  7.   7.\n",
      "  7.   8.2  8.2  8.2  9.3  9.3  9.3 10.  10.  10.   6.5  6.5  6.5  6.\n",
      "  6.   6.   7.5  7.5  7.5  7.   7.   7.   8.2  8.2  8.2  9.3  9.3  9.3]\n"
     ]
    },
    {
     "data": {
      "text/plain": [
       "[6.0, 6.5, 7.0, 7.5, 8.2, 9.3, 10.0]"
      ]
     },
     "execution_count": 13,
     "metadata": {},
     "output_type": "execute_result"
    }
   ],
   "source": [
    "y = np.load(\"../../datasets/avi/single/labels_sub1.npy\")\n",
    "\n",
    "print(y)\n",
    "y_set = sorted(set(y))\n",
    "y_set"
   ]
  },
  {
   "cell_type": "code",
   "execution_count": 19,
   "metadata": {},
   "outputs": [],
   "source": [
    "\n",
    "import warnings\n",
    "warnings.filterwarnings('ignore')\n",
    "\n",
    "limiar = 0.2\n",
    "\n",
    "hits = 0\n",
    "\n",
    "\n",
    "for i in range(len(mne_data)):\n",
    "    list_frequency = np.array([])\n",
    "    dict_y = {str(value): index  for index, value in enumerate(y_set)}\n",
    "\n",
    "\n",
    "    for frequency in y_set:\n",
    "        high_frequency = frequency + limiar\n",
    "        low_frequency = frequency - limiar\n",
    "        # print(f\"Frequency: {frequency} -> Lower: {low_frequency} Max: {high_frequency}\")\n",
    "\n",
    "        view = mne_data[i].compute_psd(method='multitaper', fmin=low_frequency, fmax=high_frequency,verbose=False)\n",
    "        array_values = np.array((view)[0][0])\n",
    "\n",
    "        # value_view = np.max(array_values)\n",
    "        value_view = np.average(array_values)\n",
    "        # value_view = np.median(array_values)\n",
    "\n",
    "        dict_y[str(frequency)] = value_view\n",
    "\n",
    "    target_frequency = max(dict_y, key=dict_y.get)\n",
    "    if float(target_frequency) == float(list(mne_data[i].event_id)[0]):\n",
    "        hits += 1\n"
   ]
  },
  {
   "cell_type": "code",
   "execution_count": 20,
   "metadata": {},
   "outputs": [
    {
     "name": "stdout",
     "output_type": "stream",
     "text": [
      "Percentage: 84.52380952380952\n",
      "hits 71\n"
     ]
    }
   ],
   "source": [
    "print(f\"Percentage: {hits*100/len(y)}\")\n",
    "\n",
    "print(\"hits\", hits)"
   ]
  },
  {
   "cell_type": "code",
   "execution_count": null,
   "metadata": {},
   "outputs": [],
   "source": []
  }
 ],
 "metadata": {
  "kernelspec": {
   "display_name": "tutoriais--u7LmRJB",
   "language": "python",
   "name": "python3"
  },
  "language_info": {
   "codemirror_mode": {
    "name": "ipython",
    "version": 3
   },
   "file_extension": ".py",
   "mimetype": "text/x-python",
   "name": "python",
   "nbconvert_exporter": "python",
   "pygments_lexer": "ipython3",
   "version": "3.8.10"
  },
  "orig_nbformat": 4
 },
 "nbformat": 4,
 "nbformat_minor": 2
}
