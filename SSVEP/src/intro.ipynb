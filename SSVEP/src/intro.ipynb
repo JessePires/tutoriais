{
 "cells": [
  {
   "cell_type": "markdown",
   "metadata": {},
   "source": [
    "# Descrição de artigos e docs\n",
    "\n",
    "- Descrição de \"**A dataset of EEG signals from a single-channel SSVEP-based brain computer interface**\"\n",
    "    - Estudo realizado pelos grupos serão apresentados no dia 28/08, juntamnete com a ideia (ou código) do carregamento e preparação do *dataset*\n",
    "- Descrição de \"**BETA: A Large Benchmark Database Toward SSVEP-BCI Application**\"\n",
    "    - Estudo realizado pelos grupos serão apresentados no dia 31/08 (ou 04/09), juntamnete com a ideia (ou código) do carregamento e preparação do *dataset*"
   ]
  },
  {
   "cell_type": "markdown",
   "metadata": {},
   "source": [
    "## A dataset of EEG signals from a single-channel SSVEP-based brain computer interface\n",
    "\n",
    "O objetivo principal do artigo é apresentar uma base de dados de eletroencefalografia utilizando o paradigma SSVEP. Os dados foram adquiridos por meio de um experimento baseado em estimulos visuais repetitivos com quatro diferentes frequências intermitentes. O ponto de destaque aqui é que esses dados foram obtidos usando um único eletrôdo seco em contrapartida ao que é mais comum de se ver nas pesquisas, a saber, um capacete com vários eletrôdos que utilizam um gel condutor. Os autores pretendem, portanto, dar os pontapés iniciais para a criação de capacetes para EEG de baixo custo usando apenas um único eletrôdo.\n",
    "\n",
    "\n",
    "### Descrição dos dados\n",
    "\n",
    "Os dados no dataset apresentado são dados brutos de eletroencefalografia utilizando o paradigma SSVEP, adquiridos usando um capacete com apenas um eletrôdo seco. A aquisição dos dados foi feita com 11 voluntários. O registro de um único voluntário contém os resultados do estímulo por uma fonte de luz intermitente apresentada por 16 segundos em 4 diferentes frequências, a saber, 8,57Hz (F1), 10Hz (F2), 12Hz (F3) e 15Hz (F4).\n",
    "\n",
    "### Materiais e métodos\n",
    "\n",
    "A unidade de aquisição é baseada no dispositivo open source Olimex EEG-SMT. Ele é um conversor ADC de 10 bits de entrada diferencial com dois canais com uma taxa de amostragem de 256Hz. No experimento, apenas um dos canais foi utilizado. Um canal do conversor ADC consiste em dois eletrôdos ativos (CH- e CH+) cuja diferença de tensão e dada na entrada do conversor. Esses eletrôdos foram organizados em uma espécie de tiara fabricada pelos próprios pesquisadores, visando organizar melhor os eletrôdos no lobo parietal frontal e no lobo ociptal de acordo com o padrão 10-20. Além disso, um eletrôdo de referência passivo foi adicionado no lóbulo da orelha. Ainda, ressalta-se que foram adicionar pinos de ouro no eletrôdo de referência para melhorar a condutividade. O conversor ADV fornece o dado digitalizado como um número inteiro variando de 0 a 1023 com um intervalo de + ou - 0,39mV devido ao ganho interno do dispositivo (G = 6427). A transferência é feita automaticamente para um Raspbery Pi 3 responsável por processar os dados, gerando o dataset proposto. O dipositivo de aquisição e o Raspbery foram empacotados junto de uma power bank em um único módulo que garante até 3 horas de autonomia.\n",
    "\n",
    "A plataforma para estímulo dos voluntários foi implementada em um notebook de 15,6 polegadas. O estímulo visual consiste em quatro quadrados de 80x80 pixels alternando entre as cores preta e branca em um fundo preto. As frequências de oscilação escolhidas foram 8,57Hz (F1), 10Hz (F2), 12Hz (F3) e 15Hz (F4) respectivamente são compatíveis com o monitor de 60Hz de taxa de atualização. O software executado no notebook guia o voluntário no experimento.\n",
    "\n",
    "Ao todo, 11 voluntários saudáveis de idade entre 25 e 50 anos participaram do experimento. Cada um deles foi equipado com o aparelho de aquisição de dados e posicionados em uma cadeira a 70cm de distância do monitor do notebook. Foi solicitado que eles seguissem os seguintes passos:\n",
    "\n",
    "- Focar no quadro de da frequência F1 por 16 segundos.\n",
    "- Esperar 4 segundos e relaxar antes de ir para o próximo estímulo (nenhum estímulo foi projetado no monitor durante este período).\n",
    "- Repetir os dois primeiros passos para F2, F3 e F4.\n",
    "\n",
    "\n",
    "### Resultados\n",
    "\n",
    "Ao final do experimento, um total de 44 amostras de 16 segundos em 256Hz foram obtidos de um total de 180.224 amostras. A ideia é aumentar o dataset com mais dados com pessoas diferentes, visando deixá-lo pronto tanto para pesquisas quanto para uso comercial.\n",
    "\n",
    "\n",
    "### Problemas\n",
    "\n",
    "- Quantidade de voluntários?\n",
    "\n",
    "- Como foi estabelecido o tempo de 4 segundos de relaxamento? Eles são o suficiente para o voluntário retornar para um estado \"inicial\"."
   ]
  },
  {
   "cell_type": "markdown",
   "metadata": {},
   "source": [
    "## BETA: A Large Benchmark Database Toward SSVEP-BCI Application\n",
    "\n",
    "O objetivo do artigo é apresentar a base de dados criada por meio da captura de dados utilizando o paradigma SSVEP. A justificativa dos autores para a necessidade de criação do dataset é que a quantia de base de dados públicas capturadas com este paradigma é limitada. Os dados foram obtidos por meio de um experimento visual, que exibe em teclado virtual em um monitor de 27 polegadas, cada tecla deste teclado emite uma frequência e possui uma fase de modulação.\n",
    "\n",
    "\n",
    "### Descrição dos dados\n",
    "\n",
    "A aquisição dos dados foi feita com 70 volutários saudaveis (incluindo crianças). Os dados foram capturados com a utilização de 64 eletrôdos\n",
    "\n",
    "### Materiais e métodos\n",
    "\n",
    "Os participantes não tinham:\n",
    "\n",
    "- histórico de epilepsia ou disturbios neuropsiquiatricos\n",
    "- deficit de atenção ou disturbio de hiperatividade\n",
    "- histórico de danos cerebrais ou implantações intracraniana\n",
    "\n",
    "\n",
    "### Resultados\n",
    "\n",
    "\n",
    "### Problemas\n",
    "\n"
   ]
  }
 ],
 "metadata": {
  "kernelspec": {
   "display_name": "venv",
   "language": "python",
   "name": "python3"
  },
  "language_info": {
   "name": "python",
   "version": "3.9.7"
  },
  "orig_nbformat": 4
 },
 "nbformat": 4,
 "nbformat_minor": 2
}
