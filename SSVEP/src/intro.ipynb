{
 "cells": [
  {
   "cell_type": "markdown",
   "id": "fdfbc5b9-0b46-4d65-9567-55d5ee59fde4",
   "metadata": {},
   "source": [
    "## Descrições\n",
    "\n",
    "Escreva abaixo as descrições de cada artigo\n"
   ]
  },
  {
   "cell_type": "markdown",
   "id": "5b8976e9",
   "metadata": {},
   "source": [
    "#### A dataset of EEG signals from a single-channel SSVEP-based brain computer interface\n"
   ]
  },
  {
   "cell_type": "markdown",
   "id": "3bb9b5d1",
   "metadata": {},
   "source": [
    "#### BETA: A Large Benchmark Database Toward SSVEP-BCI Application\n"
   ]
  }
 ],
 "metadata": {
  "kernelspec": {
   "display_name": "Python 3 (ipykernel)",
   "language": "python",
   "name": "python3"
  },
  "language_info": {
   "codemirror_mode": {
    "name": "ipython",
    "version": 3
   },
   "file_extension": ".py",
   "mimetype": "text/x-python",
   "name": "python",
   "nbconvert_exporter": "python",
   "pygments_lexer": "ipython3",
   "version": "3.9.7"
  }
 },
 "nbformat": 4,
 "nbformat_minor": 5
}
