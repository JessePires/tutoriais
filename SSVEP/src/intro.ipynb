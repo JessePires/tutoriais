{
 "cells": [
  {
   "cell_type": "markdown",
   "metadata": {},
   "source": [
    "# Descrição de artigos e docs\n",
    "\n",
    "- Descrição de \"**A dataset of EEG signals from a single-channel SSVEP-based brain computer interface**\"\n",
    "    - Estudo realizado pelos grupos serão apresentados no dia 28/08, juntamnete com a ideia (ou código) do carregamento e preparação do *dataset*\n",
    "- Descrição de \"**BETA: A Large Benchmark Database Toward SSVEP-BCI Application**\"\n",
    "    - Estudo realizado pelos grupos serão apresentados no dia 31/08 (ou 04/09), juntamnete com a ideia (ou código) do carregamento e preparação do *dataset*"
   ]
  },
  {
   "cell_type": "markdown",
   "metadata": {},
   "source": [
    "## A dataset of EEG signals from a single-channel SSVEP-based brain computer interface\n",
    "\n",
    "O objetivo principal do artigo é apresentar uma base de dados de eletroencefalografia utilizando o paradigma SSVEP. Os dados foram adquiridos por meio de um experimento baseado em estimulos visuais repetitivos com quatro diferentes frequências intermitentes. O ponto de destaque aqui é que esses dados foram obtidos usando um único eletrôdo seco em contrapartida ao que é mais comum de se ver nas pesquisas, a saber, um capacete com vários eletrôdos que utilizam um gel condutor. Os autores pretendem, portanto, dar os pontapés iniciais para a criação de capacetes para EEG de baixo custo usando apenas um único eletrôdo (intenção?)\n",
    "\n",
    "### Descrição dos dados\n",
    "\n",
    "Os dados no dataset apresentado são dados brutos de eletroencefalografia utilizando o paradigma SSVEP, adquiridos usando um capacete com apenas um eletrôdo seco. A aquisição dos dados foi feita com 11 voluntários. O registro de um único voluntário contém os resultados do estímulo por uma fonte de luz intermitente apresentada por 16 segundos em 4 diferentes frequências, a saber, 8,57Hz (F1), 10Hz (F2), 12Hz (F3) e 15Hz (F4)."
   ]
  },
  {
   "cell_type": "markdown",
   "metadata": {},
   "source": [
    "## BETA: A Large Benchmark Database Toward SSVEP-BCI Application\n",
    "\n",
    "O objetivo do artigo é apresentar a base de dados criada por meio da captura de dados utilizando o paradigma SSVEP. A justificativa dos autores para a necessidade de criação do dataset é que a quantia de base de dados públicas capturadas com este paradigma é limitada. Os dados foram obtidos por meio de um experimento visual, que exibe em teclado virtual em um monitor de 27 polegadas, cada tecla deste teclado emite uma frequência e possui uma fase de modulação.\n",
    "\n",
    "\n",
    "### Descrição dos dados\n",
    "\n",
    "A aquisição dos dados foi feita com 70 volutários saudaveis (incluindo crianças). Os dados foram capturados com a utilização de 64 eletrôdos\n",
    "\n"
   ]
  }
 ],
 "metadata": {
  "kernelspec": {
   "display_name": "venv",
   "language": "python",
   "name": "python3"
  },
  "language_info": {
   "name": "python",
   "version": "3.9.7"
  },
  "orig_nbformat": 4
 },
 "nbformat": 4,
 "nbformat_minor": 2
}
