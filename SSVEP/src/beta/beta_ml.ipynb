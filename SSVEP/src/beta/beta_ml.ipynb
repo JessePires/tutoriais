{
 "cells": [
  {
   "cell_type": "code",
   "execution_count": 8,
   "metadata": {},
   "outputs": [],
   "source": [
    "%matplotlib inline\n",
    "import matplotlib.pyplot as plt\n",
    "from matplotlib import rcParams\n",
    "import numpy as np\n",
    "from scipy import signal\n",
    "from sklearn.preprocessing import LabelEncoder\n",
    "import mne\n",
    "from sklearn.preprocessing import LabelEncoder\n",
    "from scipy.fft import fft\n"
   ]
  },
  {
   "cell_type": "markdown",
   "metadata": {},
   "source": [
    "## Análise  da base de dados `Beta` utilizando algoritmos de ML\n",
    "\n",
    "Neste notebook será analisado o `Beta dataset` utilizando algoritmos de ML para realizar a (1) extração de características. (2) seleção de características e (3) classificação dos dados.\n",
    "\n",
    "### Pontos Importantes do Dataset\n",
    " \n",
    "- Frequências estimuladas (total de 40, com a diferença de 0.2 Hz uma da outra): 8.0, 8.2, ..., 15.6, 15.8;\n",
    "- Taxa de amostragem: 250 Hz\n"
   ]
  },
  {
   "cell_type": "markdown",
   "metadata": {},
   "source": [
    "### Análisar os \"momentos\" em que ocorrem evocação do sinal SSVEP\n",
    "\n",
    "1. Criar o objeto `MNE` a partir dos dados do participante.\n",
    "2. Aplicar no objeto `MNE` o filtro passa-faixa nos valores de 6 - 18 Hz.\n",
    "3. Criar cópias do objeto `MNE` com fatias de tempo menores para analisar momentos que ocorrem estimulos ou não (verificar artigo).\n",
    "   - **a)** 0.0 - 0.5 segundos e  2.5 - 3.0 segundos ocorre apenas ruído;\n",
    "   - **b**) 0.5 - 2.5 segundos ocorre sinal SSVEP (com ruídos)\n",
    "4. Com os sinais separados em objetos MNE, aplicar a `FFT`, para que seja possível plotar gráficos que contenham (ou não) as informações. \n",
    "   - Os dados devem ser plotados no dominio da frequência (após a transformada de Fourier). O FFT pode ser realizada pela biblioteca `scipy.fft`.\n",
    "   - Deve ser observado que as janelas (a) com ruídos não aparecerão de fato o sinal SSVEP."
   ]
  },
  {
   "cell_type": "code",
   "execution_count": 9,
   "metadata": {},
   "outputs": [
    {
     "name": "stdout",
     "output_type": "stream",
     "text": [
      "(160, 64, 750)\n"
     ]
    }
   ],
   "source": [
    "data = np.load(\"../../datasets/beta/data.npy\")\n",
    "\n",
    "print(data.shape)\n"
   ]
  },
  {
   "cell_type": "code",
   "execution_count": 10,
   "metadata": {},
   "outputs": [],
   "source": [
    "n_channels = 64\n",
    "sfreq = 512\n",
    "ch_names = list(np.load(\"../../datasets/beta/channels.npy\"))\n",
    "ch_types = ['eeg'] * len(ch_names)\n",
    "info = mne.create_info(ch_names, sfreq=sfreq, ch_types=ch_types)\n",
    "best = ['P6', 'PO3']"
   ]
  },
  {
   "cell_type": "code",
   "execution_count": 11,
   "metadata": {},
   "outputs": [
    {
     "data": {
      "text/plain": [
       "(160,)"
      ]
     },
     "execution_count": 11,
     "metadata": {},
     "output_type": "execute_result"
    }
   ],
   "source": [
    "labels = np.load(\"../../datasets/beta/labels.npy\")\n",
    "unique_labels = sorted(set(labels))\n",
    "event_dict = {str(value): index  for index, value in enumerate(unique_labels)}\n",
    "labels.shape"
   ]
  },
  {
   "cell_type": "code",
   "execution_count": 19,
   "metadata": {},
   "outputs": [
    {
     "name": "stdout",
     "output_type": "stream",
     "text": [
      "Not setting metadata\n",
      "160 matching events found\n",
      "No baseline correction applied\n",
      "0 projection items activated\n",
      "Setting up band-pass filter from 6 - 18 Hz\n",
      "\n",
      "FIR filter parameters\n",
      "---------------------\n",
      "Designing a one-pass, zero-phase, non-causal bandpass filter:\n",
      "- Windowed time-domain design (firwin) method\n",
      "- Hamming window with 0.0194 passband ripple and 53 dB stopband attenuation\n",
      "- Lower passband edge: 6.00\n",
      "- Lower transition bandwidth: 2.00 Hz (-6 dB cutoff frequency: 5.00 Hz)\n",
      "- Upper passband edge: 18.00 Hz\n",
      "- Upper transition bandwidth: 4.50 Hz (-6 dB cutoff frequency: 20.25 Hz)\n",
      "- Filter length: 845 samples (1.650 s)\n",
      "\n"
     ]
    },
    {
     "name": "stderr",
     "output_type": "stream",
     "text": [
      "/tmp/ipykernel_7374/2045036464.py:12: RuntimeWarning: filter_length (845) is longer than the signal (750), distortion is likely. Reduce filter length or filter a longer signal.\n",
      "  filtered_mne_data = mne_data.filter(6, 18)\n",
      "[Parallel(n_jobs=1)]: Done  17 tasks      | elapsed:    0.0s\n",
      "[Parallel(n_jobs=1)]: Done  71 tasks      | elapsed:    0.0s\n",
      "[Parallel(n_jobs=1)]: Done 161 tasks      | elapsed:    0.0s\n",
      "[Parallel(n_jobs=1)]: Done 287 tasks      | elapsed:    0.1s\n",
      "[Parallel(n_jobs=1)]: Done 449 tasks      | elapsed:    0.1s\n",
      "[Parallel(n_jobs=1)]: Done 647 tasks      | elapsed:    0.2s\n",
      "[Parallel(n_jobs=1)]: Done 881 tasks      | elapsed:    0.3s\n",
      "[Parallel(n_jobs=1)]: Done 1151 tasks      | elapsed:    0.4s\n",
      "[Parallel(n_jobs=1)]: Done 1457 tasks      | elapsed:    0.4s\n",
      "[Parallel(n_jobs=1)]: Done 1799 tasks      | elapsed:    0.5s\n",
      "[Parallel(n_jobs=1)]: Done 2177 tasks      | elapsed:    0.6s\n",
      "[Parallel(n_jobs=1)]: Done 2591 tasks      | elapsed:    0.7s\n",
      "[Parallel(n_jobs=1)]: Done 3041 tasks      | elapsed:    0.8s\n",
      "[Parallel(n_jobs=1)]: Done 3527 tasks      | elapsed:    0.9s\n",
      "[Parallel(n_jobs=1)]: Done 4049 tasks      | elapsed:    1.0s\n",
      "[Parallel(n_jobs=1)]: Done 4607 tasks      | elapsed:    1.2s\n",
      "[Parallel(n_jobs=1)]: Done 5201 tasks      | elapsed:    1.3s\n",
      "[Parallel(n_jobs=1)]: Done 5831 tasks      | elapsed:    1.5s\n",
      "[Parallel(n_jobs=1)]: Done 6497 tasks      | elapsed:    1.7s\n",
      "[Parallel(n_jobs=1)]: Done 7199 tasks      | elapsed:    1.9s\n",
      "[Parallel(n_jobs=1)]: Done 7937 tasks      | elapsed:    2.1s\n",
      "[Parallel(n_jobs=1)]: Done 8711 tasks      | elapsed:    2.4s\n",
      "[Parallel(n_jobs=1)]: Done 9521 tasks      | elapsed:    2.7s\n"
     ]
    },
    {
     "data": {
      "text/html": [
       "<table class=\"table table-hover table-striped table-sm table-responsive small\">\n",
       "    <tr>\n",
       "        <th>Number of events</th>\n",
       "        <td>160</td>\n",
       "    </tr>\n",
       "    <tr>\n",
       "        <th>Events</th>\n",
       "        \n",
       "        <td>10.0: 4<br/>10.2: 4<br/>10.4: 4<br/>10.6: 4<br/>10.8: 4<br/>11.0: 4<br/>11.2: 4<br/>11.4: 4<br/>11.6: 4<br/>11.8: 4<br/>12.0: 4<br/>12.2: 4<br/>12.4: 4<br/>12.600000000000001: 4<br/>12.8: 4<br/>13.0: 4<br/>13.200000000000001: 4<br/>13.4: 4<br/>13.600000000000001: 4<br/>13.8: 4<br/>14.0: 4<br/>14.200000000000001: 4<br/>14.4: 4<br/>14.600000000000001: 4<br/>14.8: 4<br/>15.0: 4<br/>15.200000000000001: 4<br/>15.4: 4<br/>15.600000000000001: 4<br/>15.8: 4<br/>8.0: 4<br/>8.2: 4<br/>8.4: 4<br/>8.6: 4<br/>8.799999999999999: 4<br/>9.0: 4<br/>9.2: 4<br/>9.4: 4<br/>9.6: 4<br/>9.8: 4</td>\n",
       "        \n",
       "    </tr>\n",
       "    <tr>\n",
       "        <th>Time range</th>\n",
       "        <td>0.000 – 1.463 s</td>\n",
       "    </tr>\n",
       "    <tr>\n",
       "        <th>Baseline</th>\n",
       "        <td>off</td>\n",
       "    </tr>\n",
       "</table>"
      ],
      "text/plain": [
       "<EpochsArray |  160 events (all good), 0 – 1.46289 s, baseline off, ~58.7 MB, data loaded,\n",
       " '8.0': 4\n",
       " '8.2': 4\n",
       " '8.4': 4\n",
       " '8.6': 4\n",
       " '8.799999999999999': 4\n",
       " '9.0': 4\n",
       " '9.2': 4\n",
       " '9.4': 4\n",
       " '9.6': 4\n",
       " '9.8': 4\n",
       " and 30 more events ...>"
      ]
     },
     "execution_count": 19,
     "metadata": {},
     "output_type": "execute_result"
    }
   ],
   "source": [
    "# método para transformar labels categóricos\n",
    "le = LabelEncoder()\n",
    "events = np.column_stack((\n",
    "    np.array(range(len(labels))),\n",
    "    np.zeros(160, dtype=int),\n",
    "    le.fit_transform(labels))\n",
    ")\n",
    "\n",
    "# print(events.shape)\n",
    "\n",
    "mne_data = mne.EpochsArray(data, info, events, event_id=event_dict)\n",
    "filtered_mne_data = mne_data.filter(6, 18)\n",
    "filtered_mne_data"
   ]
  },
  {
   "cell_type": "code",
   "execution_count": null,
   "metadata": {},
   "outputs": [],
   "source": []
  },
  {
   "cell_type": "code",
   "execution_count": 17,
   "metadata": {},
   "outputs": [
    {
     "name": "stderr",
     "output_type": "stream",
     "text": [
      "/tmp/ipykernel_7374/654663683.py:2: RuntimeWarning: tmax is not in time interval. tmax is set to <class 'mne.epochs.EpochsArray'>.tmax (1.46289 s)\n",
      "  middle = filtered_mne_data.copy().crop(tmin=0.5, tmax=2.5)\n",
      "/tmp/ipykernel_7374/654663683.py:3: RuntimeWarning: tmax is not in time interval. tmax is set to <class 'mne.epochs.EpochsArray'>.tmax (1.46289 s)\n",
      "  end_noise = filtered_mne_data.copy().crop(tmin=2.5, tmax=3.0)\n"
     ]
    },
    {
     "ename": "ValueError",
     "evalue": "tmin (2.5) must be less than or equal to tmax (1.462890625)",
     "output_type": "error",
     "traceback": [
      "\u001b[0;31m---------------------------------------------------------------------------\u001b[0m",
      "\u001b[0;31mValueError\u001b[0m                                Traceback (most recent call last)",
      "\u001b[1;32m/home/jhonatancunha/UTFPR/8Periodo/padroes/tutoriais/SSVEP/src/beta/beta_ml.ipynb Célula 8\u001b[0m line \u001b[0;36m3\n\u001b[1;32m      <a href='vscode-notebook-cell:/home/jhonatancunha/UTFPR/8Periodo/padroes/tutoriais/SSVEP/src/beta/beta_ml.ipynb#X14sZmlsZQ%3D%3D?line=0'>1</a>\u001b[0m start_noise \u001b[39m=\u001b[39m filtered_mne_data\u001b[39m.\u001b[39mcopy()\u001b[39m.\u001b[39mcrop(tmin\u001b[39m=\u001b[39m\u001b[39m0.0\u001b[39m, tmax\u001b[39m=\u001b[39m\u001b[39m0.5\u001b[39m)\n\u001b[1;32m      <a href='vscode-notebook-cell:/home/jhonatancunha/UTFPR/8Periodo/padroes/tutoriais/SSVEP/src/beta/beta_ml.ipynb#X14sZmlsZQ%3D%3D?line=1'>2</a>\u001b[0m middle \u001b[39m=\u001b[39m filtered_mne_data\u001b[39m.\u001b[39mcopy()\u001b[39m.\u001b[39mcrop(tmin\u001b[39m=\u001b[39m\u001b[39m0.5\u001b[39m, tmax\u001b[39m=\u001b[39m\u001b[39m2.5\u001b[39m)\n\u001b[0;32m----> <a href='vscode-notebook-cell:/home/jhonatancunha/UTFPR/8Periodo/padroes/tutoriais/SSVEP/src/beta/beta_ml.ipynb#X14sZmlsZQ%3D%3D?line=2'>3</a>\u001b[0m end_noise \u001b[39m=\u001b[39m filtered_mne_data\u001b[39m.\u001b[39;49mcopy()\u001b[39m.\u001b[39;49mcrop(tmin\u001b[39m=\u001b[39;49m\u001b[39m2.5\u001b[39;49m, tmax\u001b[39m=\u001b[39;49m\u001b[39m3.0\u001b[39;49m)\n\u001b[1;32m      <a href='vscode-notebook-cell:/home/jhonatancunha/UTFPR/8Periodo/padroes/tutoriais/SSVEP/src/beta/beta_ml.ipynb#X14sZmlsZQ%3D%3D?line=4'>5</a>\u001b[0m \u001b[39m# 4. Aplicar a FFT para plotar gráficos no domínio da frequência.\u001b[39;00m\n\u001b[1;32m      <a href='vscode-notebook-cell:/home/jhonatancunha/UTFPR/8Periodo/padroes/tutoriais/SSVEP/src/beta/beta_ml.ipynb#X14sZmlsZQ%3D%3D?line=5'>6</a>\u001b[0m \u001b[39mdef\u001b[39;00m \u001b[39mplot_fft\u001b[39m(data, title):\n",
      "File \u001b[0;32m<decorator-gen-280>:12\u001b[0m, in \u001b[0;36mcrop\u001b[0;34m(self, tmin, tmax, include_tmax, verbose)\u001b[0m\n",
      "File \u001b[0;32m~/.local/share/virtualenvs/tutoriais--u7LmRJB/lib/python3.8/site-packages/mne/epochs.py:1971\u001b[0m, in \u001b[0;36mBaseEpochs.crop\u001b[0;34m(self, tmin, tmax, include_tmax, verbose)\u001b[0m\n\u001b[1;32m   1968\u001b[0m \u001b[39m# XXX this could be made to work on non-preloaded data...\u001b[39;00m\n\u001b[1;32m   1969\u001b[0m _check_preload(\u001b[39mself\u001b[39m, \u001b[39m\"\u001b[39m\u001b[39mModifying data of epochs\u001b[39m\u001b[39m\"\u001b[39m)\n\u001b[0;32m-> 1971\u001b[0m \u001b[39msuper\u001b[39;49m()\u001b[39m.\u001b[39;49mcrop(tmin\u001b[39m=\u001b[39;49mtmin, tmax\u001b[39m=\u001b[39;49mtmax, include_tmax\u001b[39m=\u001b[39;49minclude_tmax)\n\u001b[1;32m   1973\u001b[0m \u001b[39m# Adjust rejection period\u001b[39;00m\n\u001b[1;32m   1974\u001b[0m \u001b[39mif\u001b[39;00m \u001b[39mself\u001b[39m\u001b[39m.\u001b[39mreject_tmin \u001b[39mis\u001b[39;00m \u001b[39mnot\u001b[39;00m \u001b[39mNone\u001b[39;00m \u001b[39mand\u001b[39;00m \u001b[39mself\u001b[39m\u001b[39m.\u001b[39mreject_tmin \u001b[39m<\u001b[39m \u001b[39mself\u001b[39m\u001b[39m.\u001b[39mtmin:\n",
      "File \u001b[0;32m<decorator-gen-5>:12\u001b[0m, in \u001b[0;36mcrop\u001b[0;34m(self, tmin, tmax, include_tmax, verbose)\u001b[0m\n",
      "File \u001b[0;32m~/.local/share/virtualenvs/tutoriais--u7LmRJB/lib/python3.8/site-packages/mne/utils/mixin.py:630\u001b[0m, in \u001b[0;36mExtendedTimeMixin.crop\u001b[0;34m(self, tmin, tmax, include_tmax, verbose)\u001b[0m\n\u001b[1;32m    627\u001b[0m     tmax \u001b[39m=\u001b[39m \u001b[39mself\u001b[39m\u001b[39m.\u001b[39mtmax\n\u001b[1;32m    628\u001b[0m     include_tmax \u001b[39m=\u001b[39m \u001b[39mTrue\u001b[39;00m\n\u001b[0;32m--> 630\u001b[0m mask \u001b[39m=\u001b[39m _time_mask(\n\u001b[1;32m    631\u001b[0m     \u001b[39mself\u001b[39;49m\u001b[39m.\u001b[39;49mtimes, tmin, tmax, sfreq\u001b[39m=\u001b[39;49m\u001b[39mself\u001b[39;49m\u001b[39m.\u001b[39;49minfo[\u001b[39m\"\u001b[39;49m\u001b[39msfreq\u001b[39;49m\u001b[39m\"\u001b[39;49m], include_tmax\u001b[39m=\u001b[39;49minclude_tmax\n\u001b[1;32m    632\u001b[0m )\n\u001b[1;32m    633\u001b[0m \u001b[39mself\u001b[39m\u001b[39m.\u001b[39m_set_times(\u001b[39mself\u001b[39m\u001b[39m.\u001b[39mtimes[mask])\n\u001b[1;32m    634\u001b[0m \u001b[39mself\u001b[39m\u001b[39m.\u001b[39m_raw_times \u001b[39m=\u001b[39m \u001b[39mself\u001b[39m\u001b[39m.\u001b[39m_raw_times[mask]\n",
      "File \u001b[0;32m~/.local/share/virtualenvs/tutoriais--u7LmRJB/lib/python3.8/site-packages/mne/utils/numerics.py:496\u001b[0m, in \u001b[0;36m_time_mask\u001b[0;34m(times, tmin, tmax, sfreq, raise_error, include_tmax)\u001b[0m\n\u001b[1;32m    494\u001b[0m     \u001b[39massert\u001b[39;00m include_tmax  \u001b[39m# can only be used when sfreq is known\u001b[39;00m\n\u001b[1;32m    495\u001b[0m \u001b[39mif\u001b[39;00m raise_error \u001b[39mand\u001b[39;00m tmin \u001b[39m>\u001b[39m tmax:\n\u001b[0;32m--> 496\u001b[0m     \u001b[39mraise\u001b[39;00m \u001b[39mValueError\u001b[39;00m(\n\u001b[1;32m    497\u001b[0m         \u001b[39m\"\u001b[39m\u001b[39mtmin (\u001b[39m\u001b[39m%s\u001b[39;00m\u001b[39m) must be less than or equal to tmax (\u001b[39m\u001b[39m%s\u001b[39;00m\u001b[39m)\u001b[39m\u001b[39m\"\u001b[39m \u001b[39m%\u001b[39m (orig_tmin, orig_tmax)\n\u001b[1;32m    498\u001b[0m     )\n\u001b[1;32m    499\u001b[0m mask \u001b[39m=\u001b[39m times \u001b[39m>\u001b[39m\u001b[39m=\u001b[39m tmin\n\u001b[1;32m    500\u001b[0m mask \u001b[39m&\u001b[39m\u001b[39m=\u001b[39m times \u001b[39m<\u001b[39m\u001b[39m=\u001b[39m tmax\n",
      "\u001b[0;31mValueError\u001b[0m: tmin (2.5) must be less than or equal to tmax (1.462890625)"
     ]
    }
   ],
   "source": [
    "start_noise = filtered_mne_data.copy().crop(tmin=0.0, tmax=0.5)\n",
    "middle = filtered_mne_data.copy().crop(tmin=0.5, tmax=2.5)\n",
    "end_noise = filtered_mne_data.copy().crop(tmin=2.5, tmax=3.0)\n",
    "\n",
    "# 4. Aplicar a FFT para plotar gráficos no domínio da frequência.\n",
    "def plot_fft(data, title):\n",
    "    times = data.times\n",
    "    signal = data.get_data()[0]  # Assumindo que estamos interessados no primeiro canal\n",
    "    n_samples = len(signal)\n",
    "    sample_rate = data.info['sfreq']\n",
    "    frequencies = np.fft.fftfreq(n_samples, 1/sample_rate)\n",
    "    fft_values = fft(signal)\n",
    "    fft_magnitude = np.abs(fft_values)\n",
    "    \n",
    "    plt.figure()\n",
    "    plt.plot(frequencies, fft_magnitude)\n",
    "    plt.xlabel('Frequência (Hz)')\n",
    "    plt.ylabel('Magnitude da FFT')\n",
    "    plt.title(title)\n",
    "    plt.show()\n",
    "\n",
    "# Plotar FFT para as duas janelas de interesse\n",
    "plot_fft(start_noise, 'FFT - Janela a (0.0 - 0.5 segundos)')\n",
    "plot_fft(middle, 'FFT - Janela b (0.5 - 2.5 segundos)')\n",
    "plot_fft(end_noise, 'FFT - Janela b (2.5 - 3.5 segundos)')"
   ]
  },
  {
   "cell_type": "markdown",
   "metadata": {},
   "source": [
    "#### Extração de características\n",
    "\n",
    "Uma característica importante de acordo com o artigo base do dataset `BETA` é o *signal-to-noise ratio* (SNR).\n",
    "\n",
    "Ao final desta etapa, será obtido um vetor de características. Estas podem ser:\n",
    "- `SNR` (obrigatória);\n",
    "- Maior valor espectral (FFT);\n",
    "- Médio dos valores espectrais (FFT);\n",
    "\n",
    "\n",
    "Dimensionalidade dos dados será explicada da seguinte forma:\n",
    "\n",
    "`40, 4, 64, 750` -> 40 targets, 4 trials, 64 channels e 750 values.\n",
    "\n",
    "`160, 64 (SRN) + 64 (MÉDIA) + 64 (MAIOR) ...`\n",
    "\n",
    "Resultando em  `160, 192`"
   ]
  },
  {
   "cell_type": "markdown",
   "metadata": {},
   "source": [
    "#### Seleção de características e classsificação\n",
    "\n",
    "Como existem diversos eletrodos (canais) que não obtem sinal SSVEP, podemos extrair as características que não contribuem para a classificação dos dados.\n",
    "\n",
    "\n",
    "Podemos utilizar o método `RFE` (*Recursive Feature Elimination*) aplicador por meio de `sklearn.feature_selection.RFE`, aprimorand o parâmetro `n_features_to_select` até obter o melhor resultado de classificação.\n",
    "\n",
    "Para a classificação propriamente dita, é considerado o uso do método `SVM`."
   ]
  },
  {
   "cell_type": "markdown",
   "metadata": {},
   "source": []
  },
  {
   "cell_type": "markdown",
   "metadata": {},
   "source": [
    "# How to calculate SNR https://saturncloud.io/blog/calculating-signaltonoise-ratio-in-python-with-scipy-v11/"
   ]
  }
 ],
 "metadata": {
  "kernelspec": {
   "display_name": "tutoriais--u7LmRJB",
   "language": "python",
   "name": "python3"
  },
  "language_info": {
   "codemirror_mode": {
    "name": "ipython",
    "version": 3
   },
   "file_extension": ".py",
   "mimetype": "text/x-python",
   "name": "python",
   "nbconvert_exporter": "python",
   "pygments_lexer": "ipython3",
   "version": "3.8.10"
  },
  "orig_nbformat": 4
 },
 "nbformat": 4,
 "nbformat_minor": 2
}
