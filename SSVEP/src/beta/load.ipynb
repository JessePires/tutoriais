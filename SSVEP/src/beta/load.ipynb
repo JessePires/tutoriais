{
 "cells": [
  {
   "cell_type": "markdown",
   "metadata": {},
   "source": [
    "### Carregamento de bibliotecas\n",
    "\n",
    "No bloco de código abaixo é feito o carregamento de todas as bibliotecas que serão utilizadas neste notebook."
   ]
  },
  {
   "cell_type": "code",
   "execution_count": 10,
   "metadata": {},
   "outputs": [],
   "source": [
    "from scipy.io import loadmat\n",
    "import numpy as np"
   ]
  },
  {
   "cell_type": "markdown",
   "metadata": {},
   "source": [
    "### Carregamento\n",
    "\n",
    "No bloco de código abaixo, realizamos o carregamento de todos os pedaços da base de dados avi em `single-channel`. \n",
    "\n",
    "É efetuada uma iteração entre 1 e 5 e concatenados os dados carregados na variável `avi_data`."
   ]
  },
  {
   "cell_type": "code",
   "execution_count": 11,
   "metadata": {},
   "outputs": [],
   "source": [
    "# pré-carregamento\n",
    "beta_data = loadmat(\"../../datasets/beta/S1.mat\", struct_as_record=True)"
   ]
  },
  {
   "cell_type": "markdown",
   "metadata": {},
   "source": [
    "### Captura dos Dados\n",
    "\n",
    "No trecho de código abaixo é executada a captura dos dados (X) e suas respectivas classes (y). "
   ]
  },
  {
   "cell_type": "code",
   "execution_count": 12,
   "metadata": {},
   "outputs": [
    {
     "name": "stdout",
     "output_type": "stream",
     "text": [
      "(64, 750, 4, 40) --> (ELETRODOS, DADOS, 4, TARGET)\n",
      "\n",
      "Divisão dos rótulos sem duplicatas (sequências):\n",
      "(40,)\n",
      "[ 8.6  8.8  9.   9.2  9.4  9.6  9.8 10.  10.2 10.4 10.6 10.8 11.  11.2\n",
      " 11.4 11.6 11.8 12.  12.2 12.4 12.6 12.8 13.  13.2 13.4 13.6 13.8 14.\n",
      " 14.2 14.4 14.6 14.8 15.  15.2 15.4 15.6 15.8  8.   8.2  8.4]\n"
     ]
    }
   ],
   "source": [
    "# extração direta dos dados\n",
    "\n",
    "X = beta_data['data'][0][0][0]\n",
    "y = beta_data['data'][0][0][1][0][0][4][0]\n",
    "\n",
    "print(X.shape, \"--> (ELETRODOS, DADOS, 4, TARGET)\")\n",
    "\n",
    "print(\"\\nDivisão dos rótulos sem duplicatas (sequências):\")\n",
    "print(y.shape)\n",
    "print(y)\n",
    "\n"
   ]
  },
  {
   "cell_type": "markdown",
   "metadata": {},
   "source": [
    "### Organização dos dados\n",
    "\n",
    "No trecho de código abaixo é realizado o `reshape` dos dados presentes na variável `X`.\n",
    "\n",
    "O algoritmo realizará a seguinte transformação:\n",
    "\n",
    "De\n",
    "\n",
    "- (64, 750, 4, 40)\n",
    "\n",
    "Para\n",
    "\n",
    "- (4, 40, 64, 750)"
   ]
  },
  {
   "cell_type": "code",
   "execution_count": 13,
   "metadata": {},
   "outputs": [
    {
     "name": "stdout",
     "output_type": "stream",
     "text": [
      "(64, 750, 4, 40)\n",
      "(4, 40, 64, 750)\n"
     ]
    },
    {
     "data": {
      "text/plain": [
       "(160, 64, 750)"
      ]
     },
     "execution_count": 13,
     "metadata": {},
     "output_type": "execute_result"
    }
   ],
   "source": [
    "print(X.shape)\n",
    "reshape_X = np.array(np.transpose(X,  (2, 3, 0, 1)))\n",
    "print(reshape_X.shape)\n",
    "reshape_X = reshape_X.reshape(reshape_X.shape[0] * reshape_X.shape[1], reshape_X.shape[2], reshape_X.shape[3])\n",
    "reshape_X.shape"
   ]
  },
  {
   "cell_type": "markdown",
   "metadata": {},
   "source": [
    "### Organização dos dados\n",
    "\n",
    "No trecho de código abaixo é realizado o `reshape` dos dados presentes na variável `y`.\n",
    "\n",
    "O algoritmo realizará a seguinte transformação:\n",
    "\n",
    "De\n",
    "\n",
    "- (10, 10)\n",
    "\n",
    "Para\n",
    "\n",
    "- (100)"
   ]
  },
  {
   "cell_type": "markdown",
   "metadata": {},
   "source": [
    "### Salvando dados em um arquivo\n",
    "\n",
    "No trecho de código abaixo é feito o salvamento dos dados formatados na extensão `.npy`."
   ]
  },
  {
   "cell_type": "code",
   "execution_count": 14,
   "metadata": {},
   "outputs": [
    {
     "name": "stdout",
     "output_type": "stream",
     "text": [
      "[ 8.6  8.8  9.   9.2  9.4  9.6  9.8 10.  10.2 10.4 10.6 10.8 11.  11.2\n",
      " 11.4 11.6 11.8 12.  12.2 12.4 12.6 12.8 13.  13.2 13.4 13.6 13.8 14.\n",
      " 14.2 14.4 14.6 14.8 15.  15.2 15.4 15.6 15.8  8.   8.2  8.4]\n"
     ]
    }
   ],
   "source": [
    "reshape_Y = np.array([np.transpose(data) for data in y])\n",
    "print(reshape_Y)"
   ]
  },
  {
   "cell_type": "code",
   "execution_count": 15,
   "metadata": {},
   "outputs": [],
   "source": [
    "# salva os dados numpy\n",
    "\n",
    "np.save(\"../../datasets/beta/data.npy\", reshape_X)\n",
    "np.save(\"../../datasets/beta/labels.npy\", reshape_Y)"
   ]
  },
  {
   "cell_type": "markdown",
   "metadata": {},
   "source": [
    "### Tarefas:\n",
    "\n",
    "- Padronizar os dados de todos os 4 participantes dos dados *single-target* e salvar de forma adequada para utilização nos próximos notebooks.\n",
    "- Realizar o mesmo estudo para os dados *multi-target*"
   ]
  }
 ],
 "metadata": {
  "kernelspec": {
   "display_name": "Python 3 (ipykernel)",
   "language": "python",
   "name": "python3"
  },
  "language_info": {
   "codemirror_mode": {
    "name": "ipython",
    "version": 3
   },
   "file_extension": ".py",
   "mimetype": "text/x-python",
   "name": "python",
   "nbconvert_exporter": "python",
   "pygments_lexer": "ipython3",
   "version": "3.9.7"
  }
 },
 "nbformat": 4,
 "nbformat_minor": 4
}
