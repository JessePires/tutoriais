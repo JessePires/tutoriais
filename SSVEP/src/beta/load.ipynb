{
 "cells": [
  {
   "cell_type": "markdown",
   "metadata": {},
   "source": [
    "### Carregamento de bibliotecas\n",
    "\n",
    "No bloco de código abaixo é feito o carregamento de todas as bibliotecas que serão utilizadas neste notebook."
   ]
  },
  {
   "cell_type": "code",
   "execution_count": 1,
   "metadata": {},
   "outputs": [],
   "source": [
    "from scipy.io import loadmat\n",
    "import numpy as np"
   ]
  },
  {
   "cell_type": "markdown",
   "metadata": {},
   "source": [
    "### Carregamento\n",
    "\n",
    "No bloco de código abaixo, realizamos o carregamento de todos os pedaços da base de dados avi em `single-channel`. \n",
    "\n",
    "É efetuada uma iteração entre 1 e 5 e concatenados os dados carregados na variável `avi_data`."
   ]
  },
  {
   "cell_type": "code",
   "execution_count": 10,
   "metadata": {},
   "outputs": [],
   "source": [
    "# pré-carregamento\n",
    "\n",
    "beta_data = loadmat(\"../../datasets/beta/S1.mat\")"
   ]
  },
  {
   "cell_type": "markdown",
   "metadata": {},
   "source": [
    "### Captura dos Dados\n",
    "\n",
    "No trecho de código abaixo é executada a captura dos dados (X) e suas respectivas classes (y). "
   ]
  },
  {
   "cell_type": "code",
   "execution_count": 85,
   "metadata": {},
   "outputs": [
    {
     "name": "stdout",
     "output_type": "stream",
     "text": [
      "Divisão dos dados:\n",
      "[[(array(['S1'], dtype='<U2'), array([[26.5]]), array(['female'], dtype='<U6'), array([[array(['1'], dtype='<U1'), array(['-17.926'], dtype='<U7'),\n",
      "          array(['0.51499'], dtype='<U7'), array(['FP1'], dtype='<U3')],\n",
      "         [array(['2'], dtype='<U1'), array(['0'], dtype='<U1'),\n",
      "          array(['0.50669'], dtype='<U7'), array(['FPZ'], dtype='<U3')],\n",
      "         [array(['3'], dtype='<U1'), array(['17.926'], dtype='<U6'),\n",
      "          array(['0.51499'], dtype='<U7'), array(['FP2'], dtype='<U3')],\n",
      "         [array(['4'], dtype='<U1'), array(['-22.461'], dtype='<U7'),\n",
      "          array(['0.42113'], dtype='<U7'), array(['AF3'], dtype='<U3')],\n",
      "         [array(['5'], dtype='<U1'), array(['22.461'], dtype='<U6'),\n",
      "          array(['0.42113'], dtype='<U7'), array(['AF4'], dtype='<U3')],\n",
      "         [array(['6'], dtype='<U1'), array(['-53.913'], dtype='<U7'),\n",
      "          array(['0.52808'], dtype='<U7'), array(['F7'], dtype='<U2')],\n",
      "         [array(['7'], dtype='<U1'), array(['-49.405'], dtype='<U7'),\n",
      "          array(['0.43159'], dtype='<U7'), array(['F5'], dtype='<U2')],\n",
      "         [array(['8'], dtype='<U1'), array(['-39.947'], dtype='<U7'),\n",
      "          array(['0.34459'], dtype='<U7'), array(['F3'], dtype='<U2')],\n",
      "         [array(['9'], dtype='<U1'), array(['-23.493'], dtype='<U7'),\n",
      "          array(['0.27903'], dtype='<U7'), array(['F1'], dtype='<U2')],\n",
      "         [array(['10'], dtype='<U2'), array(['0'], dtype='<U1'),\n",
      "          array(['0.25338'], dtype='<U7'), array(['FZ'], dtype='<U2')],\n",
      "         [array(['11'], dtype='<U2'), array(['23.493'], dtype='<U6'),\n",
      "          array(['0.27878'], dtype='<U7'), array(['F2'], dtype='<U2')],\n",
      "         [array(['12'], dtype='<U2'), array(['39.897'], dtype='<U6'),\n",
      "          array(['0.3445'], dtype='<U6'), array(['F4'], dtype='<U2')],\n",
      "         [array(['13'], dtype='<U2'), array(['49.405'], dtype='<U6'),\n",
      "          array(['0.43128'], dtype='<U7'), array(['F6'], dtype='<U2')],\n",
      "         [array(['14'], dtype='<U2'), array(['53.867'], dtype='<U6'),\n",
      "          array(['0.52807'], dtype='<U7'), array(['F8'], dtype='<U2')],\n",
      "         [array(['15'], dtype='<U2'), array(['-71.948'], dtype='<U7'),\n",
      "          array(['0.53192'], dtype='<U7'), array(['FT7'], dtype='<U3')],\n",
      "         [array(['16'], dtype='<U2'), array(['-69.332'], dtype='<U7'),\n",
      "          array(['0.40823'], dtype='<U7'), array(['FC5'], dtype='<U3')],\n",
      "         [array(['17'], dtype='<U2'), array(['-62.425'], dtype='<U7'),\n",
      "          array(['0.28822'], dtype='<U7'), array(['FC3'], dtype='<U3')],\n",
      "         [array(['18'], dtype='<U2'), array(['-44.925'], dtype='<U7'),\n",
      "          array(['0.18118'], dtype='<U7'), array(['FC1'], dtype='<U3')],\n",
      "         [array(['19'], dtype='<U2'), array(['0'], dtype='<U1'),\n",
      "          array(['0.12662'], dtype='<U7'), array(['FCZ'], dtype='<U3')],\n",
      "         [array(['20'], dtype='<U2'), array(['44.925'], dtype='<U6'),\n",
      "          array(['0.18118'], dtype='<U7'), array(['FC2'], dtype='<U3')],\n",
      "         [array(['21'], dtype='<U2'), array(['62.425'], dtype='<U6'),\n",
      "          array(['0.28822'], dtype='<U7'), array(['FC4'], dtype='<U3')],\n",
      "         [array(['22'], dtype='<U2'), array(['69.332'], dtype='<U6'),\n",
      "          array(['0.40823'], dtype='<U7'), array(['FC6'], dtype='<U3')],\n",
      "         [array(['23'], dtype='<U2'), array(['71.948'], dtype='<U6'),\n",
      "          array(['0.53192'], dtype='<U7'), array(['FT8'], dtype='<U3')],\n",
      "         [array(['24'], dtype='<U2'), array(['-90'], dtype='<U3'),\n",
      "          array(['0.53318'], dtype='<U7'), array(['T7'], dtype='<U2')],\n",
      "         [array(['25'], dtype='<U2'), array(['-90'], dtype='<U3'),\n",
      "          array(['0.3999'], dtype='<U6'), array(['C5'], dtype='<U2')],\n",
      "         [array(['26'], dtype='<U2'), array(['-90'], dtype='<U3'),\n",
      "          array(['0.26669'], dtype='<U7'), array(['C3'], dtype='<U2')],\n",
      "         [array(['27'], dtype='<U2'), array(['-90'], dtype='<U3'),\n",
      "          array(['0.13319'], dtype='<U7'), array(['C1'], dtype='<U2')],\n",
      "         [array(['28'], dtype='<U2'), array(['0'], dtype='<U1'),\n",
      "          array(['0'], dtype='<U1'), array(['CZ'], dtype='<U2')],\n",
      "         [array(['29'], dtype='<U2'), array(['90'], dtype='<U2'),\n",
      "          array(['0.13348'], dtype='<U7'), array(['C2'], dtype='<U2')],\n",
      "         [array(['30'], dtype='<U2'), array(['90'], dtype='<U2'),\n",
      "          array(['0.26667'], dtype='<U7'), array(['C4'], dtype='<U2')],\n",
      "         [array(['31'], dtype='<U2'), array(['90'], dtype='<U2'),\n",
      "          array(['0.3999'], dtype='<U6'), array(['C6'], dtype='<U2')],\n",
      "         [array(['32'], dtype='<U2'), array(['90'], dtype='<U2'),\n",
      "          array(['0.53318'], dtype='<U7'), array(['T8'], dtype='<U2')],\n",
      "         [array(['33'], dtype='<U2'), array(['-100.42'], dtype='<U7'),\n",
      "          array(['0.74733'], dtype='<U7'), array(['M1'], dtype='<U2')],\n",
      "         [array(['34'], dtype='<U2'), array(['-108.05'], dtype='<U7'),\n",
      "          array(['0.53192'], dtype='<U7'), array(['TP7'], dtype='<U3')],\n",
      "         [array(['35'], dtype='<U2'), array(['-110.67'], dtype='<U7'),\n",
      "          array(['0.40823'], dtype='<U7'), array(['CP5'], dtype='<U3')],\n",
      "         [array(['36'], dtype='<U2'), array(['-117.57'], dtype='<U7'),\n",
      "          array(['0.28822'], dtype='<U7'), array(['CP3'], dtype='<U3')],\n",
      "         [array(['37'], dtype='<U2'), array(['-135.07'], dtype='<U7'),\n",
      "          array(['0.18118'], dtype='<U7'), array(['CP1'], dtype='<U3')],\n",
      "         [array(['38'], dtype='<U2'), array(['180'], dtype='<U3'),\n",
      "          array(['0.12662'], dtype='<U7'), array(['CPZ'], dtype='<U3')],\n",
      "         [array(['39'], dtype='<U2'), array(['135.07'], dtype='<U6'),\n",
      "          array(['0.18118'], dtype='<U7'), array(['CP2'], dtype='<U3')],\n",
      "         [array(['40'], dtype='<U2'), array(['117.57'], dtype='<U6'),\n",
      "          array(['0.28822'], dtype='<U7'), array(['CP4'], dtype='<U3')],\n",
      "         [array(['41'], dtype='<U2'), array(['110.67'], dtype='<U6'),\n",
      "          array(['0.40823'], dtype='<U7'), array(['CP6'], dtype='<U3')],\n",
      "         [array(['42'], dtype='<U2'), array(['108.11'], dtype='<U6'),\n",
      "          array(['0.53191'], dtype='<U7'), array(['TP8'], dtype='<U3')],\n",
      "         [array(['43'], dtype='<U2'), array(['100.42'], dtype='<U6'),\n",
      "          array(['0.74733'], dtype='<U7'), array(['M2'], dtype='<U2')],\n",
      "         [array(['44'], dtype='<U2'), array(['-126.09'], dtype='<U7'),\n",
      "          array(['0.52808'], dtype='<U7'), array(['P7'], dtype='<U2')],\n",
      "         [array(['45'], dtype='<U2'), array(['-130.6'], dtype='<U6'),\n",
      "          array(['0.43159'], dtype='<U7'), array(['P5'], dtype='<U2')],\n",
      "         [array(['46'], dtype='<U2'), array(['-140.05'], dtype='<U7'),\n",
      "          array(['0.34459'], dtype='<U7'), array(['P3'], dtype='<U2')],\n",
      "         [array(['47'], dtype='<U2'), array(['-156.51'], dtype='<U7'),\n",
      "          array(['0.27903'], dtype='<U7'), array(['P1'], dtype='<U2')],\n",
      "         [array(['48'], dtype='<U2'), array(['180'], dtype='<U3'),\n",
      "          array(['0.25338'], dtype='<U7'), array(['PZ'], dtype='<U2')],\n",
      "         [array(['49'], dtype='<U2'), array(['156.51'], dtype='<U6'),\n",
      "          array(['0.27878'], dtype='<U7'), array(['P2'], dtype='<U2')],\n",
      "         [array(['50'], dtype='<U2'), array(['140.1'], dtype='<U5'),\n",
      "          array(['0.3445'], dtype='<U6'), array(['P4'], dtype='<U2')],\n",
      "         [array(['51'], dtype='<U2'), array(['130.6'], dtype='<U5'),\n",
      "          array(['0.43128'], dtype='<U7'), array(['P6'], dtype='<U2')],\n",
      "         [array(['52'], dtype='<U2'), array(['126.13'], dtype='<U6'),\n",
      "          array(['0.52807'], dtype='<U7'), array(['P8'], dtype='<U2')],\n",
      "         [array(['53'], dtype='<U2'), array(['-144.11'], dtype='<U7'),\n",
      "          array(['0.52233'], dtype='<U7'), array(['PO7'], dtype='<U3')],\n",
      "         [array(['54'], dtype='<U2'), array(['-149.46'], dtype='<U7'),\n",
      "          array(['0.46649'], dtype='<U7'), array(['PO5'], dtype='<U3')],\n",
      "         [array(['55'], dtype='<U2'), array(['-157.54'], dtype='<U7'),\n",
      "          array(['0.42113'], dtype='<U7'), array(['PO3'], dtype='<U3')],\n",
      "         [array(['56'], dtype='<U2'), array(['180'], dtype='<U3'),\n",
      "          array(['0.37994'], dtype='<U7'), array(['POZ'], dtype='<U3')],\n",
      "         [array(['57'], dtype='<U2'), array(['157.54'], dtype='<U6'),\n",
      "          array(['0.42113'], dtype='<U7'), array(['PO4'], dtype='<U3')],\n",
      "         [array(['58'], dtype='<U2'), array(['149.46'], dtype='<U6'),\n",
      "          array(['0.46649'], dtype='<U7'), array(['PO6'], dtype='<U3')],\n",
      "         [array(['59'], dtype='<U2'), array(['144.14'], dtype='<U6'),\n",
      "          array(['0.52231'], dtype='<U7'), array(['PO8'], dtype='<U3')],\n",
      "         [array(['60'], dtype='<U2'), array(['0'], dtype='<U1'),\n",
      "          array(['0'], dtype='<U1'), array(['CB1'], dtype='<U3')],\n",
      "         [array(['61'], dtype='<U2'), array(['-162.07'], dtype='<U7'),\n",
      "          array(['0.51499'], dtype='<U7'), array(['O1'], dtype='<U2')],\n",
      "         [array(['62'], dtype='<U2'), array(['180'], dtype='<U3'),\n",
      "          array(['0.50669'], dtype='<U7'), array(['OZ'], dtype='<U2')],\n",
      "         [array(['63'], dtype='<U2'), array(['162.07'], dtype='<U6'),\n",
      "          array(['0.51499'], dtype='<U7'), array(['O2'], dtype='<U2')],\n",
      "         [array(['64'], dtype='<U2'), array(['0'], dtype='<U1'),\n",
      "          array(['0'], dtype='<U1'), array(['CB2'], dtype='<U3')]],\n",
      "        dtype=object), array([[ 8.6,  8.8,  9. ,  9.2,  9.4,  9.6,  9.8, 10. , 10.2, 10.4, 10.6,\n",
      "          10.8, 11. , 11.2, 11.4, 11.6, 11.8, 12. , 12.2, 12.4, 12.6, 12.8,\n",
      "          13. , 13.2, 13.4, 13.6, 13.8, 14. , 14.2, 14.4, 14.6, 14.8, 15. ,\n",
      "          15.2, 15.4, 15.6, 15.8,  8. ,  8.2,  8.4]]), array([[4.71238898, 0.        , 1.57079633, 3.14159265, 4.71238898,\n",
      "          0.        , 1.57079633, 3.14159265, 4.71238898, 0.        ,\n",
      "          1.57079633, 3.14159265, 4.71238898, 0.        , 1.57079633,\n",
      "          3.14159265, 4.71238898, 0.        , 1.57079633, 3.14159265,\n",
      "          4.71238898, 0.        , 1.57079633, 3.14159265, 4.71238898,\n",
      "          0.        , 1.57079633, 3.14159265, 4.71238898, 0.        ,\n",
      "          1.57079633, 3.14159265, 4.71238898, 0.        , 1.57079633,\n",
      "          3.14159265, 4.71238898, 0.        , 1.57079633, 3.14159265]]), array([[108.44332637]]), array([[-12.47972774]]), array([[4.6711575]]), array([[250]], dtype=uint8))]]\n",
      "\n",
      "Divisão dos rótulos sem duplicatas (sequências):\n"
     ]
    }
   ],
   "source": [
    "# extração direta dos dados\n",
    "\n",
    "\n",
    "# for i in beta_data['data'][0][0]:\n",
    "#     print(i.shape)\n",
    "\n",
    "X = beta_data['data'][0][0][0]\n",
    "y = beta_data['data'][0][0][1]\n",
    "\n",
    "print(\"Divisão dos dados:\")\n",
    "print(y)\n",
    "# for data in X:\n",
    "#     print(data.shape)\n",
    "\n",
    "print(\"\\nDivisão dos rótulos sem duplicatas (sequências):\")\n",
    "# print(y.shape)\n",
    "# for data in y:\n",
    "#     print(data)\n",
    "\n",
    "# print(X.shape)\n",
    "\n",
    "# for i in y[0][0]:\n",
    "#     print(i.shape)\n",
    "\n",
    "\n",
    "# print(y[0][0][4])\n",
    "# print(y[0][0][5])"
   ]
  },
  {
   "cell_type": "markdown",
   "metadata": {},
   "source": [
    "### Padronização\n",
    "\n",
    "No trecho de código abaixo removemos frequências duplicadas que estão presentes nos dados do experimento.\n",
    "\n",
    "Essas frequências podem ser entendidas como \"lixo\"."
   ]
  },
  {
   "cell_type": "code",
   "execution_count": null,
   "metadata": {},
   "outputs": [
    {
     "ename": "",
     "evalue": "",
     "output_type": "error",
     "traceback": [
      "\u001b[1;31mA execução de células com '/bin/python3' requer o pacote ipykernel.\n",
      "\u001b[1;31mRun the following command to install 'ipykernel' into the Python environment. \n",
      "\u001b[1;31mCommand: '/bin/python3 -m pip install ipykernel -U --user --force-reinstall'"
     ]
    }
   ],
   "source": [
    "# padronizando 1º participante\n",
    "X[0] = X[0][:, list(set(range(27)) - set([3, 4, 5, 12, 13, 14]))]\n",
    "y[0] = y[0][:, list(set(range(27)) - set([3, 4, 5, 12, 13, 14]))]\n",
    "\n",
    "# padronizando 2º participante\n",
    "X[1] = X[1][:, list(set(range(26)) - set([6, 16, 17, 18, 22]))]\n",
    "y[1] = y[1][:, list(set(range(26)) - set([6, 16, 17, 18, 22]))]\n",
    "\n",
    "print(\"Divisão dos dados:\")\n",
    "for data in X:\n",
    "    print(data.shape)\n",
    "\n",
    "print(\"\\nDivisão dos rótulos (sequências):\")\n",
    "for data in y:\n",
    "    print(data)\n"
   ]
  },
  {
   "cell_type": "markdown",
   "metadata": {},
   "source": [
    "### Organização dos dados\n",
    "\n",
    "No trecho de código abaixo é realizado o `reshape` dos dados presentes na variável `X`.\n",
    "\n",
    "O algoritmo realizará a seguinte transformação:\n",
    "\n",
    "De\n",
    "\n",
    "- (4, 1560, 21)\n",
    "\n",
    "Para\n",
    "\n",
    "- (4, 21, 15360)"
   ]
  },
  {
   "cell_type": "code",
   "execution_count": null,
   "metadata": {},
   "outputs": [
    {
     "ename": "",
     "evalue": "",
     "output_type": "error",
     "traceback": [
      "\u001b[1;31mA execução de células com '/bin/python3' requer o pacote ipykernel.\n",
      "\u001b[1;31mRun the following command to install 'ipykernel' into the Python environment. \n",
      "\u001b[1;31mCommand: '/bin/python3 -m pip install ipykernel -U --user --force-reinstall'"
     ]
    }
   ],
   "source": [
    "reshape_X = np.array([np.transpose(data) for data in X])\n",
    "reshape_X.shape\n"
   ]
  },
  {
   "cell_type": "markdown",
   "metadata": {},
   "source": [
    "### Salvando dados em um arquivo\n",
    "\n",
    "No trecho de código abaixo é feito o salvamento dos dados formatados na extensão `.npy`."
   ]
  },
  {
   "cell_type": "code",
   "execution_count": null,
   "metadata": {},
   "outputs": [
    {
     "ename": "",
     "evalue": "",
     "output_type": "error",
     "traceback": [
      "\u001b[1;31mA execução de células com '/bin/python3' requer o pacote ipykernel.\n",
      "\u001b[1;31mRun the following command to install 'ipykernel' into the Python environment. \n",
      "\u001b[1;31mCommand: '/bin/python3 -m pip install ipykernel -U --user --force-reinstall'"
     ]
    }
   ],
   "source": [
    "# salva os dados numpy\n",
    "\n",
    "np.save(\"../../datasets/avi/single/data_sub1.npy\", reshape_X)\n",
    "np.save(\"../../datasets/avi/single/labels_sub1.npy\", y)"
   ]
  },
  {
   "cell_type": "markdown",
   "metadata": {},
   "source": [
    "### Tarefas:\n",
    "\n",
    "- Padronizar os dados de todos os 4 participantes dos dados *single-target* e salvar de forma adequada para utilização nos próximos notebooks.\n",
    "- Realizar o mesmo estudo para os dados *multi-target*"
   ]
  }
 ],
 "metadata": {
  "kernelspec": {
   "display_name": "Python 3 (ipykernel)",
   "language": "python",
   "name": "python3"
  },
  "language_info": {
   "codemirror_mode": {
    "name": "ipython",
    "version": 3
   },
   "file_extension": ".py",
   "mimetype": "text/x-python",
   "name": "python",
   "nbconvert_exporter": "python",
   "pygments_lexer": "ipython3",
   "version": "3.8.10"
  }
 },
 "nbformat": 4,
 "nbformat_minor": 4
}
