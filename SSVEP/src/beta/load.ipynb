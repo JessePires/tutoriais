{
 "cells": [
  {
   "cell_type": "markdown",
   "metadata": {},
   "source": [
    "### Carregamento de bibliotecas\n",
    "\n",
    "No bloco de código abaixo é feito o carregamento de todas as bibliotecas que serão utilizadas neste notebook."
   ]
  },
  {
   "cell_type": "code",
   "execution_count": 2,
   "metadata": {},
   "outputs": [],
   "source": [
    "from scipy.io import loadmat\n",
    "import numpy as np"
   ]
  },
  {
   "cell_type": "markdown",
   "metadata": {},
   "source": [
    "### Carregamento\n",
    "\n",
    "No bloco de código abaixo, realizamos o carregamento de todos os pedaços da base de dados avi em `single-channel`. \n",
    "\n",
    "É efetuada uma iteração entre 1 e 5 e concatenados os dados carregados na variável `avi_data`."
   ]
  },
  {
   "cell_type": "code",
   "execution_count": 5,
   "metadata": {},
   "outputs": [],
   "source": [
    "# pré-carregamento\n",
    "\n",
    "avi_data = loadmat(\"../../datasets/beta/S1.mat\")"
   ]
  },
  {
   "cell_type": "markdown",
   "metadata": {},
   "source": [
    "### Captura dos Dados\n",
    "\n",
    "No trecho de código abaixo é executada a captura dos dados (X) e suas respectivas classes (y). "
   ]
  },
  {
   "cell_type": "code",
   "execution_count": 32,
   "metadata": {},
   "outputs": [],
   "source": [
    "# extração direta dos dados\n",
    "\n",
    "\n",
    "\n",
    "\n",
    "# X = [d['Data'][0][0][0] for d in avi_data]\n",
    "# y = [d['Data'][0][0][1] for d in avi_data]\n",
    "\n",
    "# print(\"Divisão dos dados:\")\n",
    "# for data in X:\n",
    "#     print(data.shape)\n",
    "\n",
    "# print(\"\\nDivisão dos rótulos sem duplicatas (sequências):\")\n",
    "# for data in y:\n",
    "#     print(data)"
   ]
  },
  {
   "cell_type": "markdown",
   "metadata": {},
   "source": [
    "### Padronização\n",
    "\n",
    "No trecho de código abaixo removemos frequências duplicadas que estão presentes nos dados do experimento.\n",
    "\n",
    "Essas frequências podem ser entendidas como \"lixo\"."
   ]
  },
  {
   "cell_type": "code",
   "execution_count": null,
   "metadata": {},
   "outputs": [
    {
     "ename": "",
     "evalue": "",
     "output_type": "error",
     "traceback": [
      "\u001b[1;31mA execução de células com '/bin/python3' requer o pacote ipykernel.\n",
      "\u001b[1;31mRun the following command to install 'ipykernel' into the Python environment. \n",
      "\u001b[1;31mCommand: '/bin/python3 -m pip install ipykernel -U --user --force-reinstall'"
     ]
    }
   ],
   "source": [
    "# padronizando 1º participante\n",
    "X[0] = X[0][:, list(set(range(27)) - set([3, 4, 5, 12, 13, 14]))]\n",
    "y[0] = y[0][:, list(set(range(27)) - set([3, 4, 5, 12, 13, 14]))]\n",
    "\n",
    "# padronizando 2º participante\n",
    "X[1] = X[1][:, list(set(range(26)) - set([6, 16, 17, 18, 22]))]\n",
    "y[1] = y[1][:, list(set(range(26)) - set([6, 16, 17, 18, 22]))]\n",
    "\n",
    "print(\"Divisão dos dados:\")\n",
    "for data in X:\n",
    "    print(data.shape)\n",
    "\n",
    "print(\"\\nDivisão dos rótulos (sequências):\")\n",
    "for data in y:\n",
    "    print(data)\n"
   ]
  },
  {
   "cell_type": "markdown",
   "metadata": {},
   "source": [
    "### Organização dos dados\n",
    "\n",
    "No trecho de código abaixo é realizado o `reshape` dos dados presentes na variável `X`.\n",
    "\n",
    "O algoritmo realizará a seguinte transformação:\n",
    "\n",
    "De\n",
    "\n",
    "- (4, 1560, 21)\n",
    "\n",
    "Para\n",
    "\n",
    "- (4, 21, 15360)"
   ]
  },
  {
   "cell_type": "code",
   "execution_count": null,
   "metadata": {},
   "outputs": [
    {
     "ename": "",
     "evalue": "",
     "output_type": "error",
     "traceback": [
      "\u001b[1;31mA execução de células com '/bin/python3' requer o pacote ipykernel.\n",
      "\u001b[1;31mRun the following command to install 'ipykernel' into the Python environment. \n",
      "\u001b[1;31mCommand: '/bin/python3 -m pip install ipykernel -U --user --force-reinstall'"
     ]
    }
   ],
   "source": [
    "reshape_X = np.array([np.transpose(data) for data in X])\n",
    "reshape_X.shape\n"
   ]
  },
  {
   "cell_type": "markdown",
   "metadata": {},
   "source": [
    "### Salvando dados em um arquivo\n",
    "\n",
    "No trecho de código abaixo é feito o salvamento dos dados formatados na extensão `.npy`."
   ]
  },
  {
   "cell_type": "code",
   "execution_count": null,
   "metadata": {},
   "outputs": [
    {
     "ename": "",
     "evalue": "",
     "output_type": "error",
     "traceback": [
      "\u001b[1;31mA execução de células com '/bin/python3' requer o pacote ipykernel.\n",
      "\u001b[1;31mRun the following command to install 'ipykernel' into the Python environment. \n",
      "\u001b[1;31mCommand: '/bin/python3 -m pip install ipykernel -U --user --force-reinstall'"
     ]
    }
   ],
   "source": [
    "# salva os dados numpy\n",
    "\n",
    "np.save(\"../../datasets/avi/single/data_sub1.npy\", reshape_X)\n",
    "np.save(\"../../datasets/avi/single/labels_sub1.npy\", y)"
   ]
  },
  {
   "cell_type": "markdown",
   "metadata": {},
   "source": [
    "### Tarefas:\n",
    "\n",
    "- Padronizar os dados de todos os 4 participantes dos dados *single-target* e salvar de forma adequada para utilização nos próximos notebooks.\n",
    "- Realizar o mesmo estudo para os dados *multi-target*"
   ]
  }
 ],
 "metadata": {
  "kernelspec": {
   "display_name": "Python 3 (ipykernel)",
   "language": "python",
   "name": "python3"
  },
  "language_info": {
   "codemirror_mode": {
    "name": "ipython",
    "version": 3
   },
   "file_extension": ".py",
   "mimetype": "text/x-python",
   "name": "python",
   "nbconvert_exporter": "python",
   "pygments_lexer": "ipython3",
   "version": "3.8.10"
  }
 },
 "nbformat": 4,
 "nbformat_minor": 4
}
