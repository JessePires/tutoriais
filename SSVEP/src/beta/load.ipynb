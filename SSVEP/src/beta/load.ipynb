{
 "cells": [
  {
   "cell_type": "markdown",
   "metadata": {},
   "source": [
    "### Carregamento de bibliotecas\n",
    "\n",
    "No bloco de código abaixo é feito o carregamento de todas as bibliotecas que serão utilizadas neste notebook."
   ]
  },
  {
   "cell_type": "code",
   "execution_count": 1,
   "metadata": {},
   "outputs": [],
   "source": [
    "from scipy.io import loadmat\n",
    "import numpy as np"
   ]
  },
  {
   "cell_type": "markdown",
   "metadata": {},
   "source": [
    "### Carregamento\n",
    "\n",
    "No bloco de código abaixo, realizamos o carregamento de todos os pedaços da base de dados avi em `single-channel`. \n",
    "\n",
    "É efetuada uma iteração entre 1 e 5 e concatenados os dados carregados na variável `avi_data`."
   ]
  },
  {
   "cell_type": "code",
   "execution_count": 142,
   "metadata": {},
   "outputs": [
    {
     "name": "stdout",
     "output_type": "stream",
     "text": [
      "(1,)\n",
      "(1, 1)\n",
      "(1,)\n",
      "(64, 4)\n",
      "(1, 40)\n",
      "(1, 40)\n",
      "(1, 1)\n",
      "(1, 1)\n",
      "(1, 1)\n",
      "(1, 1)\n",
      "\n",
      "[[ 8.6  8.8  9.   9.2  9.4  9.6  9.8 10.  10.2 10.4 10.6 10.8 11.  11.2\n",
      "  11.4 11.6 11.8 12.  12.2 12.4 12.6 12.8 13.  13.2 13.4 13.6 13.8 14.\n",
      "  14.2 14.4 14.6 14.8 15.  15.2 15.4 15.6 15.8  8.   8.2  8.4]]\n",
      "[[4.71238898 0.         1.57079633 3.14159265 4.71238898 0.\n",
      "  1.57079633 3.14159265 4.71238898 0.         1.57079633 3.14159265\n",
      "  4.71238898 0.         1.57079633 3.14159265 4.71238898 0.\n",
      "  1.57079633 3.14159265 4.71238898 0.         1.57079633 3.14159265\n",
      "  4.71238898 0.         1.57079633 3.14159265 4.71238898 0.\n",
      "  1.57079633 3.14159265 4.71238898 0.         1.57079633 3.14159265\n",
      "  4.71238898 0.         1.57079633 3.14159265]]\n"
     ]
    }
   ],
   "source": [
    "# pré-carregamento\n",
    "\n",
    "beta_data = loadmat(\"../../datasets/beta/S1.mat\", struct_as_record=True)\n",
    "for i  in list(beta_data['data'][0][0][1][0][0]):\n",
    "    print(i.shape)\n",
    "\n",
    "print()\n",
    "print(beta_data['data'][0][0][1][0][0][4])\n",
    "print(beta_data['data'][0][0][1][0][0][5])"
   ]
  },
  {
   "cell_type": "markdown",
   "metadata": {},
   "source": [
    "### Captura dos Dados\n",
    "\n",
    "No trecho de código abaixo é executada a captura dos dados (X) e suas respectivas classes (y). "
   ]
  },
  {
   "cell_type": "code",
   "execution_count": 124,
   "metadata": {},
   "outputs": [
    {
     "name": "stdout",
     "output_type": "stream",
     "text": [
      "(64, 750, 4, 40)\n",
      "Divisão dos dados:\n",
      "\n",
      "Divisão dos rótulos sem duplicatas (sequências):\n",
      "(1, 1)\n"
     ]
    }
   ],
   "source": [
    "# extração direta dos dados\n",
    "\n",
    "\n",
    "# for i in beta_data['data'][0][0]:\n",
    "#     print(i.shape)\n",
    "\n",
    "X = beta_data['data'][0][0][0]\n",
    "y = beta_data['data'][0][0][1]\n",
    "\n",
    "print(X.shape)\n",
    "\n",
    "print(\"Divisão dos dados:\")\n",
    "# for data in X:\n",
    "#     print(data.shape)\n",
    "\n",
    "print(\"\\nDivisão dos rótulos sem duplicatas (sequências):\")\n",
    "# print(y.shape)\n",
    "# for data in y:\n",
    "#     print(data)\n",
    "\n",
    "# print(X.shape)\n",
    "\n",
    "for i in y[0]:\n",
    "    print(y.shape)\n",
    "\n",
    "\n",
    "# print(y[0][0][4])\n",
    "# print(y[0][0][5])"
   ]
  },
  {
   "cell_type": "markdown",
   "metadata": {},
   "source": [
    "### Padronização\n",
    "\n",
    "No trecho de código abaixo removemos frequências duplicadas que estão presentes nos dados do experimento.\n",
    "\n",
    "Essas frequências podem ser entendidas como \"lixo\"."
   ]
  },
  {
   "cell_type": "code",
   "execution_count": null,
   "metadata": {},
   "outputs": [
    {
     "ename": "",
     "evalue": "",
     "output_type": "error",
     "traceback": [
      "\u001b[1;31mA execução de células com '/bin/python3' requer o pacote ipykernel.\n",
      "\u001b[1;31mRun the following command to install 'ipykernel' into the Python environment. \n",
      "\u001b[1;31mCommand: '/bin/python3 -m pip install ipykernel -U --user --force-reinstall'"
     ]
    }
   ],
   "source": [
    "# padronizando 1º participante\n",
    "X[0] = X[0][:, list(set(range(27)) - set([3, 4, 5, 12, 13, 14]))]\n",
    "y[0] = y[0][:, list(set(range(27)) - set([3, 4, 5, 12, 13, 14]))]\n",
    "\n",
    "# padronizando 2º participante\n",
    "X[1] = X[1][:, list(set(range(26)) - set([6, 16, 17, 18, 22]))]\n",
    "y[1] = y[1][:, list(set(range(26)) - set([6, 16, 17, 18, 22]))]\n",
    "\n",
    "print(\"Divisão dos dados:\")\n",
    "for data in X:\n",
    "    print(data.shape)\n",
    "\n",
    "print(\"\\nDivisão dos rótulos (sequências):\")\n",
    "for data in y:\n",
    "    print(data)\n"
   ]
  },
  {
   "cell_type": "markdown",
   "metadata": {},
   "source": [
    "### Organização dos dados\n",
    "\n",
    "No trecho de código abaixo é realizado o `reshape` dos dados presentes na variável `X`.\n",
    "\n",
    "O algoritmo realizará a seguinte transformação:\n",
    "\n",
    "De\n",
    "\n",
    "- (4, 1560, 21)\n",
    "\n",
    "Para\n",
    "\n",
    "- (4, 21, 15360)"
   ]
  },
  {
   "cell_type": "code",
   "execution_count": null,
   "metadata": {},
   "outputs": [
    {
     "ename": "",
     "evalue": "",
     "output_type": "error",
     "traceback": [
      "\u001b[1;31mA execução de células com '/bin/python3' requer o pacote ipykernel.\n",
      "\u001b[1;31mRun the following command to install 'ipykernel' into the Python environment. \n",
      "\u001b[1;31mCommand: '/bin/python3 -m pip install ipykernel -U --user --force-reinstall'"
     ]
    }
   ],
   "source": [
    "reshape_X = np.array([np.transpose(data) for data in X])\n",
    "reshape_X.shape\n"
   ]
  },
  {
   "cell_type": "markdown",
   "metadata": {},
   "source": [
    "### Salvando dados em um arquivo\n",
    "\n",
    "No trecho de código abaixo é feito o salvamento dos dados formatados na extensão `.npy`."
   ]
  },
  {
   "cell_type": "code",
   "execution_count": null,
   "metadata": {},
   "outputs": [
    {
     "ename": "",
     "evalue": "",
     "output_type": "error",
     "traceback": [
      "\u001b[1;31mA execução de células com '/bin/python3' requer o pacote ipykernel.\n",
      "\u001b[1;31mRun the following command to install 'ipykernel' into the Python environment. \n",
      "\u001b[1;31mCommand: '/bin/python3 -m pip install ipykernel -U --user --force-reinstall'"
     ]
    }
   ],
   "source": [
    "# salva os dados numpy\n",
    "\n",
    "np.save(\"../../datasets/avi/single/data_sub1.npy\", reshape_X)\n",
    "np.save(\"../../datasets/avi/single/labels_sub1.npy\", y)"
   ]
  },
  {
   "cell_type": "markdown",
   "metadata": {},
   "source": [
    "### Tarefas:\n",
    "\n",
    "- Padronizar os dados de todos os 4 participantes dos dados *single-target* e salvar de forma adequada para utilização nos próximos notebooks.\n",
    "- Realizar o mesmo estudo para os dados *multi-target*"
   ]
  }
 ],
 "metadata": {
  "kernelspec": {
   "display_name": "Python 3 (ipykernel)",
   "language": "python",
   "name": "python3"
  },
  "language_info": {
   "codemirror_mode": {
    "name": "ipython",
    "version": 3
   },
   "file_extension": ".py",
   "mimetype": "text/x-python",
   "name": "python",
   "nbconvert_exporter": "python",
   "pygments_lexer": "ipython3",
   "version": "3.8.10"
  }
 },
 "nbformat": 4,
 "nbformat_minor": 4
}
