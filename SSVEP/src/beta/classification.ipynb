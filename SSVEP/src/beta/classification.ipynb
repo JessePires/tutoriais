{
 "cells": [
  {
   "cell_type": "code",
   "execution_count": 2,
   "metadata": {},
   "outputs": [],
   "source": [
    "%matplotlib inline\n",
    "import matplotlib.pyplot as plt\n",
    "from matplotlib import rcParams\n",
    "import numpy as np\n",
    "from scipy import signal\n",
    "from sklearn.preprocessing import LabelEncoder\n",
    "import mne"
   ]
  },
  {
   "cell_type": "code",
   "execution_count": 8,
   "metadata": {},
   "outputs": [
    {
     "name": "stdout",
     "output_type": "stream",
     "text": [
      "Reading /home/jesse/UTFPR/RECONHECIMENTO_DE_PADROES/tutoriais/SSVEP/src/beta/beta.fif ...\n",
      "Isotrak not found\n",
      "    Found the data of interest:\n",
      "        t =       0.00 ...    1462.89 ms\n",
      "        0 CTF compensation matrices available\n",
      "Not setting metadata\n",
      "160 matching events found\n",
      "No baseline correction applied\n",
      "0 projection items activated\n"
     ]
    },
    {
     "data": {
      "text/html": [
       "<table class=\"table table-hover table-striped table-sm table-responsive small\">\n",
       "    <tr>\n",
       "        <th>Number of events</th>\n",
       "        <td>160</td>\n",
       "    </tr>\n",
       "    <tr>\n",
       "        <th>Events</th>\n",
       "        \n",
       "        <td>10.0: 4<br/>10.2: 4<br/>10.4: 4<br/>10.6: 4<br/>10.8: 4<br/>11.0: 4<br/>11.2: 4<br/>11.4: 4<br/>11.6: 4<br/>11.8: 4<br/>12.0: 4<br/>12.2: 4<br/>12.4: 4<br/>12.600000000000001: 4<br/>12.8: 4<br/>13.0: 4<br/>13.200000000000001: 4<br/>13.4: 4<br/>13.600000000000001: 4<br/>13.8: 4<br/>14.0: 4<br/>14.200000000000001: 4<br/>14.4: 4<br/>14.600000000000001: 4<br/>14.8: 4<br/>15.0: 4<br/>15.200000000000001: 4<br/>15.4: 4<br/>15.600000000000001: 4<br/>15.8: 4<br/>8.0: 4<br/>8.2: 4<br/>8.4: 4<br/>8.6: 4<br/>8.799999999999999: 4<br/>9.0: 4<br/>9.2: 4<br/>9.4: 4<br/>9.6: 4<br/>9.8: 4</td>\n",
       "        \n",
       "    </tr>\n",
       "    <tr>\n",
       "        <th>Time range</th>\n",
       "        <td>0.000 – 1.463 s</td>\n",
       "    </tr>\n",
       "    <tr>\n",
       "        <th>Baseline</th>\n",
       "        <td>off</td>\n",
       "    </tr>\n",
       "</table>"
      ],
      "text/plain": [
       "<EpochsFIF |  160 events (all good), 0 – 1.46289 s, baseline off, ~58.7 MB, data loaded,\n",
       " '8.0': 4\n",
       " '8.2': 4\n",
       " '8.4': 4\n",
       " '8.6': 4\n",
       " '8.799999999999999': 4\n",
       " '9.0': 4\n",
       " '9.2': 4\n",
       " '9.4': 4\n",
       " '9.6': 4\n",
       " '9.8': 4\n",
       " and 30 more events ...>"
      ]
     },
     "execution_count": 8,
     "metadata": {},
     "output_type": "execute_result"
    }
   ],
   "source": [
    "mne_data = mne.read_epochs('beta.fif')\n",
    "mne_data"
   ]
  },
  {
   "cell_type": "code",
   "execution_count": 5,
   "metadata": {},
   "outputs": [
    {
     "name": "stdout",
     "output_type": "stream",
     "text": [
      "y [ 8.6  8.8  9.   9.2  9.4  9.6  9.8 10.  10.2 10.4 10.6 10.8 11.  11.2\n",
      " 11.4 11.6 11.8 12.  12.2 12.4 12.6 12.8 13.  13.2 13.4 13.6 13.8 14.\n",
      " 14.2 14.4 14.6 14.8 15.  15.2 15.4 15.6 15.8  8.   8.2  8.4  8.6  8.8\n",
      "  9.   9.2  9.4  9.6  9.8 10.  10.2 10.4 10.6 10.8 11.  11.2 11.4 11.6\n",
      " 11.8 12.  12.2 12.4 12.6 12.8 13.  13.2 13.4 13.6 13.8 14.  14.2 14.4\n",
      " 14.6 14.8 15.  15.2 15.4 15.6 15.8  8.   8.2  8.4  8.6  8.8  9.   9.2\n",
      "  9.4  9.6  9.8 10.  10.2 10.4 10.6 10.8 11.  11.2 11.4 11.6 11.8 12.\n",
      " 12.2 12.4 12.6 12.8 13.  13.2 13.4 13.6 13.8 14.  14.2 14.4 14.6 14.8\n",
      " 15.  15.2 15.4 15.6 15.8  8.   8.2  8.4  8.6  8.8  9.   9.2  9.4  9.6\n",
      "  9.8 10.  10.2 10.4 10.6 10.8 11.  11.2 11.4 11.6 11.8 12.  12.2 12.4\n",
      " 12.6 12.8 13.  13.2 13.4 13.6 13.8 14.  14.2 14.4 14.6 14.8 15.  15.2\n",
      " 15.4 15.6 15.8  8.   8.2  8.4]\n"
     ]
    },
    {
     "data": {
      "text/plain": [
       "[8.0,\n",
       " 8.2,\n",
       " 8.4,\n",
       " 8.6,\n",
       " 8.799999999999999,\n",
       " 9.0,\n",
       " 9.2,\n",
       " 9.4,\n",
       " 9.6,\n",
       " 9.8,\n",
       " 10.0,\n",
       " 10.2,\n",
       " 10.4,\n",
       " 10.6,\n",
       " 10.8,\n",
       " 11.0,\n",
       " 11.2,\n",
       " 11.4,\n",
       " 11.6,\n",
       " 11.8,\n",
       " 12.0,\n",
       " 12.2,\n",
       " 12.4,\n",
       " 12.600000000000001,\n",
       " 12.8,\n",
       " 13.0,\n",
       " 13.200000000000001,\n",
       " 13.4,\n",
       " 13.600000000000001,\n",
       " 13.8,\n",
       " 14.0,\n",
       " 14.200000000000001,\n",
       " 14.4,\n",
       " 14.600000000000001,\n",
       " 14.8,\n",
       " 15.0,\n",
       " 15.200000000000001,\n",
       " 15.4,\n",
       " 15.600000000000001,\n",
       " 15.8]"
      ]
     },
     "execution_count": 5,
     "metadata": {},
     "output_type": "execute_result"
    }
   ],
   "source": [
    "y = np.load(\"../../datasets/beta/labels.npy\")\n",
    "\n",
    "print(\"y\", y)\n",
    "y_set = sorted(set(y))\n",
    "y_set"
   ]
  },
  {
   "cell_type": "code",
   "execution_count": 11,
   "metadata": {},
   "outputs": [
    {
     "name": "stdout",
     "output_type": "stream",
     "text": [
      "<EpochsFIF |  1 events (all good), 0 – 1.46289 s, baseline off, ~444 kB, data loaded,\n",
      " '8.6': 1>\n",
      "Frequency: 8.0 -> Lower: 7.8 Max: 8.2\n",
      "Frequency: 8.2 -> Lower: 7.999999999999999 Max: 8.399999999999999\n",
      "Frequency: 8.4 -> Lower: 8.200000000000001 Max: 8.6\n"
     ]
    },
    {
     "ename": "ValueError",
     "evalue": "zero-size array to reduction operation minimum which has no identity",
     "output_type": "error",
     "traceback": [
      "\u001b[0;31m---------------------------------------------------------------------------\u001b[0m",
      "\u001b[0;31mValueError\u001b[0m                                Traceback (most recent call last)",
      "\u001b[1;32m/home/jesse/UTFPR/RECONHECIMENTO_DE_PADROES/tutoriais/SSVEP/src/beta/classification.ipynb Cell 4\u001b[0m line \u001b[0;36m2\n\u001b[1;32m     <a href='vscode-notebook-cell:/home/jesse/UTFPR/RECONHECIMENTO_DE_PADROES/tutoriais/SSVEP/src/beta/classification.ipynb#W3sZmlsZQ%3D%3D?line=16'>17</a>\u001b[0m low_frequency \u001b[39m=\u001b[39m frequency \u001b[39m-\u001b[39m limiar\n\u001b[1;32m     <a href='vscode-notebook-cell:/home/jesse/UTFPR/RECONHECIMENTO_DE_PADROES/tutoriais/SSVEP/src/beta/classification.ipynb#W3sZmlsZQ%3D%3D?line=17'>18</a>\u001b[0m \u001b[39mprint\u001b[39m(\u001b[39mf\u001b[39m\u001b[39m\"\u001b[39m\u001b[39mFrequency: \u001b[39m\u001b[39m{\u001b[39;00mfrequency\u001b[39m}\u001b[39;00m\u001b[39m -> Lower: \u001b[39m\u001b[39m{\u001b[39;00mlow_frequency\u001b[39m}\u001b[39;00m\u001b[39m Max: \u001b[39m\u001b[39m{\u001b[39;00mhigh_frequency\u001b[39m}\u001b[39;00m\u001b[39m\"\u001b[39m)\n\u001b[0;32m---> <a href='vscode-notebook-cell:/home/jesse/UTFPR/RECONHECIMENTO_DE_PADROES/tutoriais/SSVEP/src/beta/classification.ipynb#W3sZmlsZQ%3D%3D?line=19'>20</a>\u001b[0m view \u001b[39m=\u001b[39m mne_data[i]\u001b[39m.\u001b[39;49mcompute_psd(method\u001b[39m=\u001b[39;49m\u001b[39m'\u001b[39;49m\u001b[39mmultitaper\u001b[39;49m\u001b[39m'\u001b[39;49m, fmin\u001b[39m=\u001b[39;49mlow_frequency, fmax\u001b[39m=\u001b[39;49mhigh_frequency, verbose\u001b[39m=\u001b[39;49m\u001b[39mFalse\u001b[39;49;00m)\n\u001b[1;32m     <a href='vscode-notebook-cell:/home/jesse/UTFPR/RECONHECIMENTO_DE_PADROES/tutoriais/SSVEP/src/beta/classification.ipynb#W3sZmlsZQ%3D%3D?line=20'>21</a>\u001b[0m array_values \u001b[39m=\u001b[39m np\u001b[39m.\u001b[39marray((view)[\u001b[39m0\u001b[39m][\u001b[39m0\u001b[39m])\n\u001b[1;32m     <a href='vscode-notebook-cell:/home/jesse/UTFPR/RECONHECIMENTO_DE_PADROES/tutoriais/SSVEP/src/beta/classification.ipynb#W3sZmlsZQ%3D%3D?line=22'>23</a>\u001b[0m \u001b[39m# value_view = np.max(array_values)\u001b[39;00m\n",
      "File \u001b[0;32m<decorator-gen-283>:10\u001b[0m, in \u001b[0;36mcompute_psd\u001b[0;34m(self, method, fmin, fmax, tmin, tmax, picks, proj, n_jobs, verbose, **method_kw)\u001b[0m\n",
      "File \u001b[0;32m~/venv/lib/python3.9/site-packages/mne/epochs.py:2385\u001b[0m, in \u001b[0;36mBaseEpochs.compute_psd\u001b[0;34m(self, method, fmin, fmax, tmin, tmax, picks, proj, n_jobs, verbose, **method_kw)\u001b[0m\n\u001b[1;32m   2382\u001b[0m method \u001b[39m=\u001b[39m _validate_method(method, \u001b[39mtype\u001b[39m(\u001b[39mself\u001b[39m)\u001b[39m.\u001b[39m\u001b[39m__name__\u001b[39m)\n\u001b[1;32m   2383\u001b[0m \u001b[39mself\u001b[39m\u001b[39m.\u001b[39m_set_legacy_nfft_default(tmin, tmax, method, method_kw)\n\u001b[0;32m-> 2385\u001b[0m \u001b[39mreturn\u001b[39;00m EpochsSpectrum(\n\u001b[1;32m   2386\u001b[0m     \u001b[39mself\u001b[39;49m,\n\u001b[1;32m   2387\u001b[0m     method\u001b[39m=\u001b[39;49mmethod,\n\u001b[1;32m   2388\u001b[0m     fmin\u001b[39m=\u001b[39;49mfmin,\n\u001b[1;32m   2389\u001b[0m     fmax\u001b[39m=\u001b[39;49mfmax,\n\u001b[1;32m   2390\u001b[0m     tmin\u001b[39m=\u001b[39;49mtmin,\n\u001b[1;32m   2391\u001b[0m     tmax\u001b[39m=\u001b[39;49mtmax,\n\u001b[1;32m   2392\u001b[0m     picks\u001b[39m=\u001b[39;49mpicks,\n\u001b[1;32m   2393\u001b[0m     proj\u001b[39m=\u001b[39;49mproj,\n\u001b[1;32m   2394\u001b[0m     n_jobs\u001b[39m=\u001b[39;49mn_jobs,\n\u001b[1;32m   2395\u001b[0m     verbose\u001b[39m=\u001b[39;49mverbose,\n\u001b[1;32m   2396\u001b[0m     \u001b[39m*\u001b[39;49m\u001b[39m*\u001b[39;49mmethod_kw,\n\u001b[1;32m   2397\u001b[0m )\n",
      "File \u001b[0;32m~/venv/lib/python3.9/site-packages/mne/time_frequency/spectrum.py:1266\u001b[0m, in \u001b[0;36mEpochsSpectrum.__init__\u001b[0;34m(self, inst, method, fmin, fmax, tmin, tmax, picks, proj, n_jobs, verbose, **method_kw)\u001b[0m\n\u001b[1;32m   1264\u001b[0m \u001b[39mself\u001b[39m\u001b[39m.\u001b[39m_shape \u001b[39m=\u001b[39m (\u001b[39mlen\u001b[39m(\u001b[39mself\u001b[39m\u001b[39m.\u001b[39minst),) \u001b[39m+\u001b[39m \u001b[39mself\u001b[39m\u001b[39m.\u001b[39m_shape\n\u001b[1;32m   1265\u001b[0m \u001b[39m# check for correct shape and bad values\u001b[39;00m\n\u001b[0;32m-> 1266\u001b[0m \u001b[39mself\u001b[39;49m\u001b[39m.\u001b[39;49m_check_values()\n\u001b[1;32m   1267\u001b[0m \u001b[39mdel\u001b[39;00m \u001b[39mself\u001b[39m\u001b[39m.\u001b[39m_shape\n\u001b[1;32m   1268\u001b[0m \u001b[39m# we need these for to_data_frame()\u001b[39;00m\n",
      "File \u001b[0;32m~/venv/lib/python3.9/site-packages/mne/time_frequency/spectrum.py:430\u001b[0m, in \u001b[0;36mBaseSpectrum._check_values\u001b[0;34m(self)\u001b[0m\n\u001b[1;32m    428\u001b[0m dims\u001b[39m.\u001b[39mpop(ch_dim)\n\u001b[1;32m    429\u001b[0m \u001b[39m# take min() across all but the channel axis\u001b[39;00m\n\u001b[0;32m--> 430\u001b[0m bad_value \u001b[39m=\u001b[39m \u001b[39mself\u001b[39;49m\u001b[39m.\u001b[39;49m_data\u001b[39m.\u001b[39;49mmin(axis\u001b[39m=\u001b[39;49m\u001b[39mtuple\u001b[39;49m(dims)) \u001b[39m<\u001b[39m\u001b[39m=\u001b[39m \u001b[39m0\u001b[39m\n\u001b[1;32m    431\u001b[0m \u001b[39mif\u001b[39;00m bad_value\u001b[39m.\u001b[39many():\n\u001b[1;32m    432\u001b[0m     chs \u001b[39m=\u001b[39m np\u001b[39m.\u001b[39marray(\u001b[39mself\u001b[39m\u001b[39m.\u001b[39mch_names)[bad_value]\u001b[39m.\u001b[39mtolist()\n",
      "File \u001b[0;32m~/venv/lib/python3.9/site-packages/numpy/core/_methods.py:45\u001b[0m, in \u001b[0;36m_amin\u001b[0;34m(a, axis, out, keepdims, initial, where)\u001b[0m\n\u001b[1;32m     43\u001b[0m \u001b[39mdef\u001b[39;00m \u001b[39m_amin\u001b[39m(a, axis\u001b[39m=\u001b[39m\u001b[39mNone\u001b[39;00m, out\u001b[39m=\u001b[39m\u001b[39mNone\u001b[39;00m, keepdims\u001b[39m=\u001b[39m\u001b[39mFalse\u001b[39;00m,\n\u001b[1;32m     44\u001b[0m           initial\u001b[39m=\u001b[39m_NoValue, where\u001b[39m=\u001b[39m\u001b[39mTrue\u001b[39;00m):\n\u001b[0;32m---> 45\u001b[0m     \u001b[39mreturn\u001b[39;00m umr_minimum(a, axis, \u001b[39mNone\u001b[39;49;00m, out, keepdims, initial, where)\n",
      "\u001b[0;31mValueError\u001b[0m: zero-size array to reduction operation minimum which has no identity"
     ]
    }
   ],
   "source": [
    "\n",
    "import warnings\n",
    "warnings.filterwarnings('ignore')\n",
    "\n",
    "limiar = 0.2\n",
    "\n",
    "hits = 0\n",
    "\n",
    "\n",
    "for i in range(len(mne_data)):\n",
    "    list_frequency = np.array([])\n",
    "    dict_y = {str(value): index  for index, value in enumerate(y_set)}\n",
    "\n",
    "    for frequency in y_set:\n",
    "        high_frequency = frequency + limiar\n",
    "        low_frequency = frequency - limiar\n",
    "        print(f\"Frequency: {frequency} -> Lower: {low_frequency} Max: {high_frequency}\")\n",
    "\n",
    "        view = mne_data[i].compute_psd(method='multitaper', fmin=low_frequency, fmax=high_frequency, verbose=False)\n",
    "        array_values = np.array((view)[0][0])\n",
    "\n",
    "        # value_view = np.max(array_values)\n",
    "        value_view = np.average(array_values)\n",
    "        # value_view = np.median(array_values)\n",
    "\n",
    "        dict_y[str(frequency)] = value_view\n",
    "\n",
    "    target_frequency = max(dict_y, key=dict_y.get)\n",
    "    if float(target_frequency) == float(list(mne_data[i].event_id)[0]):\n",
    "        hits += 1\n"
   ]
  },
  {
   "cell_type": "code",
   "execution_count": 9,
   "metadata": {},
   "outputs": [
    {
     "name": "stdout",
     "output_type": "stream",
     "text": [
      "Percentage: 80.0\n"
     ]
    }
   ],
   "source": [
    "print(f\"Percentage: {hits*100/len(y)}\")\n"
   ]
  },
  {
   "cell_type": "code",
   "execution_count": null,
   "metadata": {},
   "outputs": [],
   "source": []
  }
 ],
 "metadata": {
  "kernelspec": {
   "display_name": "tutoriais--u7LmRJB",
   "language": "python",
   "name": "python3"
  },
  "language_info": {
   "codemirror_mode": {
    "name": "ipython",
    "version": 3
   },
   "file_extension": ".py",
   "mimetype": "text/x-python",
   "name": "python",
   "nbconvert_exporter": "python",
   "pygments_lexer": "ipython3",
   "version": "3.9.7"
  },
  "orig_nbformat": 4
 },
 "nbformat": 4,
 "nbformat_minor": 2
}
