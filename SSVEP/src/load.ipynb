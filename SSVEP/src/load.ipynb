{
 "cells": [
  {
   "cell_type": "code",
   "execution_count": 29,
   "id": "64400f49-3688-4215-89b0-a2689b2e768c",
   "metadata": {},
   "outputs": [],
   "source": [
    "from scipy.io import loadmat\n",
    "\n",
    "\n",
    "data = list()\n",
    "\n",
    "for i in range(1, 5):\n",
    "    data.append(loadmat(f\"../datasets/avi/single/Sub{i}_singletarget.mat\"))\n",
    "\n"
   ]
  },
  {
   "cell_type": "code",
   "execution_count": 31,
   "id": "2ed59971",
   "metadata": {},
   "outputs": [
    {
     "name": "stdout",
     "output_type": "stream",
     "text": [
      "[[ 2.60219781e-06  9.16991667e-06 -8.06501703e-06 ... -3.21625151e-07\n",
      "  -6.29762962e-06  1.27730782e-05]\n",
      " [ 2.69651468e-06  9.18368733e-06 -9.39752954e-06 ...  2.73410751e-06\n",
      "  -2.76558740e-06  1.18459811e-05]\n",
      " [ 2.80924610e-06  8.52408539e-06 -1.04865248e-05 ...  5.32096419e-06\n",
      "   1.01560306e-06  1.08192280e-05]\n",
      " ...\n",
      " [-1.59381102e-06  6.35398419e-06 -1.58800667e-05 ...  3.33339472e-07\n",
      "  -7.20431103e-07  9.34546733e-06]\n",
      " [-2.71531326e-06  9.72578073e-06 -1.59270421e-05 ...  1.32395792e-06\n",
      "  -2.92879167e-06  9.59269983e-06]\n",
      " [-3.62565015e-06  1.27450148e-05 -1.53209076e-05 ...  2.48035917e-06\n",
      "  -4.90985258e-06  9.52973005e-06]]\n",
      "[[10.  10.  10.  12.  12.  12.   6.5  6.5  6.5  6.   6.   6.   6.   6.\n",
      "   6.   7.5  7.5  7.5  7.   7.   7.   8.2  8.2  8.2  9.3  9.3  9.3]]\n"
     ]
    }
   ],
   "source": [
    "X = data[0]['Data'][0][0][0]\n",
    "y = data[0]['Data'][0][0][1]\n",
    "\n",
    "print(X)\n",
    "print(y)"
   ]
  },
  {
   "cell_type": "markdown",
   "id": "79edd1d1",
   "metadata": {},
   "source": [
    "### Todo\n",
    "\n",
    "- Samples: 15360\n",
    "- Sample Frequency: 512\n",
    "- Time: 30\n",
    "- Ammount of Frequencies: 7\n",
    "- Ammount of frenquencies per time: 10\n",
    "\n",
    "\n",
    "O individuo ficou olhando para cada frequência por três segundos."
   ]
  },
  {
   "cell_type": "code",
   "execution_count": null,
   "id": "251a68f4",
   "metadata": {},
   "outputs": [],
   "source": []
  }
 ],
 "metadata": {
  "kernelspec": {
   "display_name": "Python 3 (ipykernel)",
   "language": "python",
   "name": "python3"
  },
  "language_info": {
   "codemirror_mode": {
    "name": "ipython",
    "version": 3
   },
   "file_extension": ".py",
   "mimetype": "text/x-python",
   "name": "python",
   "nbconvert_exporter": "python",
   "pygments_lexer": "ipython3",
   "version": "3.9.7"
  }
 },
 "nbformat": 4,
 "nbformat_minor": 5
}
