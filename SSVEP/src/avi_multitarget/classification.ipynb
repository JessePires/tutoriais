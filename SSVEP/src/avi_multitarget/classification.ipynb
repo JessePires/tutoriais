{
 "cells": [
  {
   "cell_type": "code",
   "execution_count": 1,
   "metadata": {},
   "outputs": [],
   "source": [
    "%matplotlib inline\n",
    "import matplotlib.pyplot as plt\n",
    "from matplotlib import rcParams\n",
    "import numpy as np\n",
    "from scipy import signal\n",
    "from sklearn.preprocessing import LabelEncoder\n",
    "import mne"
   ]
  },
  {
   "cell_type": "code",
   "execution_count": 13,
   "metadata": {},
   "outputs": [
    {
     "name": "stdout",
     "output_type": "stream",
     "text": [
      "Opening raw data file avi_multitarget.fif...\n",
      "Isotrak not found\n"
     ]
    },
    {
     "name": "stderr",
     "output_type": "stream",
     "text": [
      "/tmp/ipykernel_21964/1746252509.py:1: RuntimeWarning: This filename (avi_multitarget.fif) does not conform to MNE naming conventions. All raw files should end with raw.fif, raw_sss.fif, raw_tsss.fif, _meg.fif, _eeg.fif, _ieeg.fif, raw.fif.gz, raw_sss.fif.gz, raw_tsss.fif.gz, _meg.fif.gz, _eeg.fif.gz or _ieeg.fif.gz\n",
      "  raw = mne.io.read_raw_fif('avi_multitarget.fif')\n"
     ]
    },
    {
     "ename": "ValueError",
     "evalue": "No raw data in /home/jhonatancunha/UTFPR/8Periodo/padroes/tutoriais/SSVEP/src/avi_multitarget/avi_multitarget.fif",
     "output_type": "error",
     "traceback": [
      "\u001b[0;31m---------------------------------------------------------------------------\u001b[0m",
      "\u001b[0;31mValueError\u001b[0m                                Traceback (most recent call last)",
      "Cell \u001b[0;32mIn[13], line 1\u001b[0m\n\u001b[0;32m----> 1\u001b[0m raw \u001b[39m=\u001b[39m mne\u001b[39m.\u001b[39;49mio\u001b[39m.\u001b[39;49mread_raw_fif(\u001b[39m'\u001b[39;49m\u001b[39mavi_multitarget.fif\u001b[39;49m\u001b[39m'\u001b[39;49m)\n\u001b[1;32m      3\u001b[0m raw\n\u001b[1;32m      4\u001b[0m \u001b[39m# mne_data = mne.EpochsArray.load_data(raw)\u001b[39;00m\n",
      "File \u001b[0;32m~/.local/share/virtualenvs/tutoriais--u7LmRJB/lib/python3.8/site-packages/mne/io/fiff/raw.py:546\u001b[0m, in \u001b[0;36mread_raw_fif\u001b[0;34m(fname, allow_maxshield, preload, on_split_missing, verbose)\u001b[0m\n\u001b[1;32m    505\u001b[0m \u001b[39m@fill_doc\u001b[39m\n\u001b[1;32m    506\u001b[0m \u001b[39mdef\u001b[39;00m \u001b[39mread_raw_fif\u001b[39m(\n\u001b[1;32m    507\u001b[0m     fname, allow_maxshield\u001b[39m=\u001b[39m\u001b[39mFalse\u001b[39;00m, preload\u001b[39m=\u001b[39m\u001b[39mFalse\u001b[39;00m, on_split_missing\u001b[39m=\u001b[39m\u001b[39m\"\u001b[39m\u001b[39mraise\u001b[39m\u001b[39m\"\u001b[39m, verbose\u001b[39m=\u001b[39m\u001b[39mNone\u001b[39;00m\n\u001b[1;32m    508\u001b[0m ):\n\u001b[1;32m    509\u001b[0m \u001b[39m    \u001b[39m\u001b[39m\"\"\"Reader function for Raw FIF data.\u001b[39;00m\n\u001b[1;32m    510\u001b[0m \n\u001b[1;32m    511\u001b[0m \u001b[39m    Parameters\u001b[39;00m\n\u001b[0;32m   (...)\u001b[0m\n\u001b[1;32m    544\u001b[0m \u001b[39m    are updated accordingly.\u001b[39;00m\n\u001b[1;32m    545\u001b[0m \u001b[39m    \"\"\"\u001b[39;00m\n\u001b[0;32m--> 546\u001b[0m     \u001b[39mreturn\u001b[39;00m Raw(\n\u001b[1;32m    547\u001b[0m         fname\u001b[39m=\u001b[39;49mfname,\n\u001b[1;32m    548\u001b[0m         allow_maxshield\u001b[39m=\u001b[39;49mallow_maxshield,\n\u001b[1;32m    549\u001b[0m         preload\u001b[39m=\u001b[39;49mpreload,\n\u001b[1;32m    550\u001b[0m         verbose\u001b[39m=\u001b[39;49mverbose,\n\u001b[1;32m    551\u001b[0m         on_split_missing\u001b[39m=\u001b[39;49mon_split_missing,\n\u001b[1;32m    552\u001b[0m     )\n",
      "File \u001b[0;32m<decorator-gen-269>:12\u001b[0m, in \u001b[0;36m__init__\u001b[0;34m(self, fname, allow_maxshield, preload, on_split_missing, verbose)\u001b[0m\n",
      "File \u001b[0;32m~/.local/share/virtualenvs/tutoriais--u7LmRJB/lib/python3.8/site-packages/mne/io/fiff/raw.py:99\u001b[0m, in \u001b[0;36mRaw.__init__\u001b[0;34m(self, fname, allow_maxshield, preload, on_split_missing, verbose)\u001b[0m\n\u001b[1;32m     97\u001b[0m next_fname \u001b[39m=\u001b[39m fname\n\u001b[1;32m     98\u001b[0m \u001b[39mwhile\u001b[39;00m next_fname \u001b[39mis\u001b[39;00m \u001b[39mnot\u001b[39;00m \u001b[39mNone\u001b[39;00m:\n\u001b[0;32m---> 99\u001b[0m     raw, next_fname, buffer_size_sec \u001b[39m=\u001b[39m \u001b[39mself\u001b[39;49m\u001b[39m.\u001b[39;49m_read_raw_file(\n\u001b[1;32m    100\u001b[0m         next_fname, allow_maxshield, preload, do_check_ext\n\u001b[1;32m    101\u001b[0m     )\n\u001b[1;32m    102\u001b[0m     do_check_ext \u001b[39m=\u001b[39m \u001b[39mFalse\u001b[39;00m\n\u001b[1;32m    103\u001b[0m     raws\u001b[39m.\u001b[39mappend(raw)\n",
      "File \u001b[0;32m<decorator-gen-270>:12\u001b[0m, in \u001b[0;36m_read_raw_file\u001b[0;34m(self, fname, allow_maxshield, preload, do_check_ext, verbose)\u001b[0m\n",
      "File \u001b[0;32m~/.local/share/virtualenvs/tutoriais--u7LmRJB/lib/python3.8/site-packages/mne/io/fiff/raw.py:205\u001b[0m, in \u001b[0;36mRaw._read_raw_file\u001b[0;34m(self, fname, allow_maxshield, preload, do_check_ext, verbose)\u001b[0m\n\u001b[1;32m    203\u001b[0m raw_node \u001b[39m=\u001b[39m dir_tree_find(meas, FIFF\u001b[39m.\u001b[39mFIFFB_IAS_RAW_DATA)\n\u001b[1;32m    204\u001b[0m \u001b[39mif\u001b[39;00m \u001b[39mlen\u001b[39m(raw_node) \u001b[39m==\u001b[39m \u001b[39m0\u001b[39m:\n\u001b[0;32m--> 205\u001b[0m     \u001b[39mraise\u001b[39;00m \u001b[39mValueError\u001b[39;00m(\u001b[39m\"\u001b[39m\u001b[39mNo raw data in \u001b[39m\u001b[39m%s\u001b[39;00m\u001b[39m\"\u001b[39m \u001b[39m%\u001b[39m fname_rep)\n\u001b[1;32m    206\u001b[0m _check_maxshield(allow_maxshield)\n\u001b[1;32m    207\u001b[0m \u001b[39mwith\u001b[39;00m info\u001b[39m.\u001b[39m_unlock():\n",
      "\u001b[0;31mValueError\u001b[0m: No raw data in /home/jhonatancunha/UTFPR/8Periodo/padroes/tutoriais/SSVEP/src/avi_multitarget/avi_multitarget.fif"
     ]
    }
   ],
   "source": [
    "raw = mne.io.read_raw_fif('avi_multitarget.fif')\n",
    "\n",
    "raw\n",
    "# mne_data = mne.EpochsArray.load_data(raw)"
   ]
  },
  {
   "cell_type": "code",
   "execution_count": null,
   "metadata": {},
   "outputs": [],
   "source": []
  }
 ],
 "metadata": {
  "kernelspec": {
   "display_name": "tutoriais--u7LmRJB",
   "language": "python",
   "name": "python3"
  },
  "language_info": {
   "codemirror_mode": {
    "name": "ipython",
    "version": 3
   },
   "file_extension": ".py",
   "mimetype": "text/x-python",
   "name": "python",
   "nbconvert_exporter": "python",
   "pygments_lexer": "ipython3",
   "version": "3.8.10"
  },
  "orig_nbformat": 4
 },
 "nbformat": 4,
 "nbformat_minor": 2
}
