{
 "cells": [
  {
   "cell_type": "code",
   "execution_count": 5,
   "metadata": {},
   "outputs": [],
   "source": [
    "%matplotlib inline\n",
    "import matplotlib.pyplot as plt\n",
    "from matplotlib import rcParams\n",
    "import numpy as np\n",
    "from scipy import signal\n",
    "from sklearn.preprocessing import LabelEncoder\n",
    "import mne"
   ]
  },
  {
   "cell_type": "code",
   "execution_count": 6,
   "metadata": {},
   "outputs": [
    {
     "name": "stdout",
     "output_type": "stream",
     "text": [
      "Reading /home/jhonatancunha/UTFPR/8Periodo/padroes/tutoriais/SSVEP/src/avi_multitarget/avi_multitarget.fif ...\n",
      "Isotrak not found\n",
      "    Found the data of interest:\n",
      "        t =       0.00 ...   15998.05 ms\n",
      "        0 CTF compensation matrices available\n",
      "Not setting metadata\n",
      "100 matching events found\n",
      "No baseline correction applied\n",
      "0 projection items activated\n"
     ]
    },
    {
     "data": {
      "text/html": [
       "<table class=\"table table-hover table-striped table-sm table-responsive small\">\n",
       "    <tr>\n",
       "        <th>Number of events</th>\n",
       "        <td>100</td>\n",
       "    </tr>\n",
       "    <tr>\n",
       "        <th>Events</th>\n",
       "        \n",
       "        <td>6.0: 40<br/>6.5: 5<br/>7.0: 10<br/>7.5: 15<br/>8.2: 25<br/>9.3: 5</td>\n",
       "        \n",
       "    </tr>\n",
       "    <tr>\n",
       "        <th>Time range</th>\n",
       "        <td>0.000 – 15.998 s</td>\n",
       "    </tr>\n",
       "    <tr>\n",
       "        <th>Baseline</th>\n",
       "        <td>off</td>\n",
       "    </tr>\n",
       "</table>"
      ],
      "text/plain": [
       "<EpochsFIF |  100 events (all good), 0 – 15.998 s, baseline off, ~6.3 MB, data loaded,\n",
       " '6.0': 40\n",
       " '6.5': 5\n",
       " '7.0': 10\n",
       " '7.5': 15\n",
       " '8.2': 25\n",
       " '9.3': 5>"
      ]
     },
     "execution_count": 6,
     "metadata": {},
     "output_type": "execute_result"
    }
   ],
   "source": [
    "mne_data = mne.read_epochs('avi_multitarget.fif')\n",
    "mne_data"
   ]
  },
  {
   "cell_type": "code",
   "execution_count": 7,
   "metadata": {},
   "outputs": [
    {
     "name": "stdout",
     "output_type": "stream",
     "text": [
      "y [7.5 8.2 7.  8.2 6.  7.5 6.  6.  8.2 8.2 9.3 6.  6.  8.2 6.  6.5 7.5 7.\n",
      " 6.  6.  7.5 8.2 7.  8.2 6.  7.5 6.  6.  8.2 8.2 9.3 6.  6.  8.2 6.  6.5\n",
      " 7.5 7.  6.  6.  7.5 8.2 7.  8.2 6.  7.5 6.  6.  8.2 8.2 9.3 6.  6.  8.2\n",
      " 6.  6.5 7.5 7.  6.  6.  7.5 8.2 7.  8.2 6.  7.5 6.  6.  8.2 8.2 9.3 6.\n",
      " 6.  8.2 6.  6.5 7.5 7.  6.  6.  7.5 8.2 7.  8.2 6.  7.5 6.  6.  8.2 8.2\n",
      " 9.3 6.  6.  8.2 6.  6.5 7.5 7.  6.  6. ]\n"
     ]
    },
    {
     "data": {
      "text/plain": [
       "[6.0, 6.5, 7.0, 7.5, 8.2, 9.3]"
      ]
     },
     "execution_count": 7,
     "metadata": {},
     "output_type": "execute_result"
    }
   ],
   "source": [
    "y = np.load(\"../../datasets/avi/multi/labels_multi.npy\")\n",
    "\n",
    "print(\"y\", y)\n",
    "y_set = sorted(set(y))\n",
    "y_set"
   ]
  },
  {
   "cell_type": "code",
   "execution_count": 8,
   "metadata": {},
   "outputs": [],
   "source": [
    "\n",
    "import warnings\n",
    "warnings.filterwarnings('ignore')\n",
    "\n",
    "limiar = 0.2\n",
    "\n",
    "hits = 0\n",
    "\n",
    "\n",
    "for i in range(len(mne_data)):\n",
    "    list_frequency = np.array([])\n",
    "    dict_y = {str(value): index  for index, value in enumerate(y_set)}\n",
    "\n",
    "\n",
    "    for frequency in y_set:\n",
    "        high_frequency = frequency + limiar\n",
    "        low_frequency = frequency - limiar\n",
    "        # print(f\"Frequency: {frequency} -> Lower: {low_frequency} Max: {high_frequency}\")\n",
    "\n",
    "        view = mne_data[i].compute_psd(method='multitaper', fmin=low_frequency, fmax=high_frequency,verbose=False)\n",
    "        array_values = np.array((view)[0][0])\n",
    "\n",
    "        # value_view = np.max(array_values)\n",
    "        value_view = np.average(array_values)\n",
    "        # value_view = np.median(array_values)\n",
    "\n",
    "        dict_y[str(frequency)] = value_view\n",
    "\n",
    "    target_frequency = max(dict_y, key=dict_y.get)\n",
    "    if float(target_frequency) == float(list(mne_data[i].event_id)[0]):\n",
    "        hits += 1\n"
   ]
  },
  {
   "cell_type": "code",
   "execution_count": 9,
   "metadata": {},
   "outputs": [
    {
     "name": "stdout",
     "output_type": "stream",
     "text": [
      "Percentage: 80.0\n"
     ]
    }
   ],
   "source": [
    "print(f\"Percentage: {hits*100/len(y)}\")\n"
   ]
  },
  {
   "cell_type": "code",
   "execution_count": null,
   "metadata": {},
   "outputs": [],
   "source": []
  }
 ],
 "metadata": {
  "kernelspec": {
   "display_name": "tutoriais--u7LmRJB",
   "language": "python",
   "name": "python3"
  },
  "language_info": {
   "codemirror_mode": {
    "name": "ipython",
    "version": 3
   },
   "file_extension": ".py",
   "mimetype": "text/x-python",
   "name": "python",
   "nbconvert_exporter": "python",
   "pygments_lexer": "ipython3",
   "version": "3.8.10"
  },
  "orig_nbformat": 4
 },
 "nbformat": 4,
 "nbformat_minor": 2
}
