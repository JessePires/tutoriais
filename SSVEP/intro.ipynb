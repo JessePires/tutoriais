{
 "cells": [
  {
   "cell_type": "markdown",
   "metadata": {},
   "source": [
    "# Descrição de artigos e docs\n",
    "\n",
    "- Descrição de \"**A dataset of EEG signals from a single-channel SSVEP-based brain computer interface**\"\n",
    "    - Estudo realizado pelos grupos serão apresentados no dia 28/08, juntamnete com a ideia (ou código) do carregamento e preparação do *dataset*\n",
    "- Descrição de \"**BETA: A Large Benchmark Database Toward SSVEP-BCI Application**\"\n",
    "    - Estudo realizado pelos grupos serão apresentados no dia 31/08 (ou 04/09), juntamnete com a ideia (ou código) do carregamento e preparação do *dataset*"
   ]
  }
 ],
 "metadata": {
  "language_info": {
   "name": "python"
  },
  "orig_nbformat": 4
 },
 "nbformat": 4,
 "nbformat_minor": 2
}
