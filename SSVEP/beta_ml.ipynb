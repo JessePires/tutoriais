{
 "cells": [
  {
   "cell_type": "markdown",
   "metadata": {},
   "source": [
    "## Análise da base de dados `Beta` utilizando algoritmos de ML\n",
    "\n",
    "Neste notebook será analisado o `Beta dataset` utilizando algoritmos de ML para realizar a (1) extração de características, (2) seleção de características e (3) classificação dos dados.\n",
    "\n",
    "### Pontos importantes do dataset\n",
    "\n",
    "- Frequências estimuladas (total de 40, com diferença de 0.2 Hz uma da outra): 8.0, 8.2, ..., 15.6, 15.8;\n",
    "- Taxa de amostragem: 250Hz"
   ]
  },
  {
   "cell_type": "markdown",
   "metadata": {},
   "source": [
    "### Analisar os momentos em que ocorre evocação do sinal SSVEP\n",
    "\n",
    "1. Criar o objeto `MNE` a partir dos dados do participante;\n",
    "2. Aplicar no objeto `MNE` o filtro passa-faixa nos valores de 6 - 18Hz;\n",
    "3. Criar cópias do objeto `MNE` com fatias de tempo menores para analisar momentos que ocorrem estímulos ou não (verificar artigo);\n",
    "  - 0 - 0.5 segundos e de 2.5 - 3 segundos, ocorre apenas ruído;\n",
    "  - 0.5 - 2.5 segundos, ocorre sinal SSVEP (com ruídos);\n",
    "\n",
    "4. Com os sinais separados em objetos MNE, aplicar a `FFT`, para que seja possível plotar gráficos que contenham (ou não) as informações.\n",
    "  - Os dados devem ser plotados no domínio da frequência (após a transformada de Fourier). O `FFT` pode ser realizado pela biblioteca `scipy.fft`;\n",
    "  - Deve ser observado que as janelas (a) com ruído não aparecerão de fato no sinal do SSVEP."
   ]
  },
  {
   "cell_type": "markdown",
   "metadata": {},
   "source": [
    "### Extração de características\n",
    "\n",
    "Uma característica importante de acordo com o artigo base do dataset `BETA` é o *signal-to-noise ratio* (SNR).\n",
    "\n",
    "Ao final desta etapa, será obtido o vetor de características. Estas podem ser:\n",
    "\n",
    "  - `SNR` (obrigatória);\n",
    "  - Maior valor espectral (FFT);\n",
    "  - Média dos valores espectrais (FFT);\n",
    "\n",
    "A dimensionalidade dos dados será da seguinte forma:\n",
    "\n",
    "  - `40, 4, 64, 750` -> 40 targets, 4 trials, 64 canais e 750 valores\n",
    "  - `160, 64 (SNR) + 64 (média) + 64 (maior) ...`\n",
    "\n",
    "  Resultando em `160, 192`"
   ]
  },
  {
   "cell_type": "markdown",
   "metadata": {},
   "source": [
    "### Seleção de características e classificação\n",
    "\n",
    "Como existem diversos eletrodos (canais) que não obtém sinal SSVEP, podemos extrair as características que não contribuem para a classificação dos dados.\n",
    "\n",
    "Podemos utilizar o método `RFE` (*Recursive Feature Elimination*), aplicado por meio do `sklearn.feature_selection.MNE`, aprimorando o parâmetro `n_features_to_select` até obter o melhor resultado de classificação.\n",
    "\n",
    "Para a classificação propriamente dita, é considerado o uso do método SVM."
   ]
  },
  {
   "cell_type": "markdown",
   "metadata": {},
   "source": [
    "### Classificação de características"
   ]
  }
 ],
 "metadata": {
  "language_info": {
   "name": "python"
  }
 },
 "nbformat": 4,
 "nbformat_minor": 2
}
