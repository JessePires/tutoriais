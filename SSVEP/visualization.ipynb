{
 "cells": [
  {
   "cell_type": "code",
   "execution_count": 3,
   "metadata": {},
   "outputs": [
    {
     "data": {
      "text/plain": [
       "array([[ 2.60219781e-06,  9.16991667e-06, -8.06501703e-06, ...,\n",
       "        -3.21625151e-07, -6.29762962e-06,  1.27730782e-05],\n",
       "       [ 2.69651468e-06,  9.18368733e-06, -9.39752954e-06, ...,\n",
       "         2.73410751e-06, -2.76558740e-06,  1.18459811e-05],\n",
       "       [ 2.80924610e-06,  8.52408539e-06, -1.04865248e-05, ...,\n",
       "         5.32096419e-06,  1.01560306e-06,  1.08192280e-05],\n",
       "       ...,\n",
       "       [-1.59381102e-06,  6.35398419e-06, -1.58800667e-05, ...,\n",
       "         3.33339472e-07, -7.20431103e-07,  9.34546733e-06],\n",
       "       [-2.71531326e-06,  9.72578073e-06, -1.59270421e-05, ...,\n",
       "         1.32395792e-06, -2.92879167e-06,  9.59269983e-06],\n",
       "       [-3.62565015e-06,  1.27450148e-05, -1.53209076e-05, ...,\n",
       "         2.48035917e-06, -4.90985258e-06,  9.52973005e-06]])"
      ]
     },
     "execution_count": 3,
     "metadata": {},
     "output_type": "execute_result"
    }
   ],
   "source": [
    "import numpy as np\n",
    "\n",
    "\n",
    "X = np.load(\"datasets/avi/single/data_sub1.npy\")\n",
    "y = np.load(\"datasets/avi/single/labels_sub1.npy\")\n",
    "\n"
   ]
  },
  {
   "cell_type": "code",
   "execution_count": null,
   "metadata": {},
   "outputs": [],
   "source": []
  }
 ],
 "metadata": {
  "kernelspec": {
   "display_name": "venv",
   "language": "python",
   "name": "python3"
  },
  "language_info": {
   "codemirror_mode": {
    "name": "ipython",
    "version": 3
   },
   "file_extension": ".py",
   "mimetype": "text/x-python",
   "name": "python",
   "nbconvert_exporter": "python",
   "pygments_lexer": "ipython3",
   "version": "3.9.7"
  },
  "orig_nbformat": 4
 },
 "nbformat": 4,
 "nbformat_minor": 2
}
