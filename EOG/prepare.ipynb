{
 "cells": [
  {
   "cell_type": "code",
   "execution_count": 4,
   "metadata": {},
   "outputs": [
    {
     "data": {
      "text/plain": [
       "((28, 1000, 4), (28, 1000, 4))"
      ]
     },
     "execution_count": 4,
     "metadata": {},
     "output_type": "execute_result"
    }
   ],
   "source": [
    "import numpy as np\n",
    "\n",
    "\n",
    "data1 = np.load(\"./datasets/Gabi.npy\")\n",
    "data2 = np.load(\"./datasets/Jesse.npy\")\n",
    "\n",
    "data1.shape, data2.shape"
   ]
  },
  {
   "cell_type": "code",
   "execution_count": 9,
   "metadata": {},
   "outputs": [
    {
     "name": "stdout",
     "output_type": "stream",
     "text": [
      "(28, 1000, 2) (28, 1000, 2)\n"
     ]
    },
    {
     "data": {
      "text/plain": [
       "(2, 28, 1000, 2)"
      ]
     },
     "execution_count": 9,
     "metadata": {},
     "output_type": "execute_result"
    }
   ],
   "source": [
    "# Correção número de eletrodos e unificação\n",
    "\n",
    "# os dois primeiros eletrodos são funcionais\n",
    "data1 = data1[:,:,0:2]\n",
    "data2 = data2[:,:,0:2]\n",
    "\n",
    "print(data1.shape, data2.shape)\n",
    "\n",
    "data = np.array([data1, data2])\n",
    "data.shape"
   ]
  },
  {
   "cell_type": "code",
   "execution_count": null,
   "metadata": {},
   "outputs": [],
   "source": []
  }
 ],
 "metadata": {
  "kernelspec": {
   "display_name": "tutoriais--u7LmRJB",
   "language": "python",
   "name": "python3"
  },
  "language_info": {
   "codemirror_mode": {
    "name": "ipython",
    "version": 3
   },
   "file_extension": ".py",
   "mimetype": "text/x-python",
   "name": "python",
   "nbconvert_exporter": "python",
   "pygments_lexer": "ipython3",
   "version": "3.8.10"
  }
 },
 "nbformat": 4,
 "nbformat_minor": 2
}
