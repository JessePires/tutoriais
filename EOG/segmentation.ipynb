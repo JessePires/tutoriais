{
 "cells": [
  {
   "cell_type": "markdown",
   "metadata": {},
   "source": [
    "## Segmentação dos dados\n",
    "\n",
    "As características normalmente são extraídas sobre pequenos segmentos de tamanho fixo dos dados, não no dado como um todo. Estes pequenos segmentos são chamados de janelas. A técnica de separar os dados em janelas, recebe o nome de janela deslizante (*sliding window*) e é uma forma de segmentação de dados. Uma boa prática, é definir um passo para essa janela de forma que haja uma sopreposição de dados, para que informações da lacuna de uma janela e outra não sejam perdidas. Na imagem a seguir podemos observar um sinal EOG. Abaixo dele a representação de janelas: *W1*, *W2*, *W3*... Repare que entre as janelas, há uma sobreposição de tamanho *T*. \n",
    "\n",
    "Nesta base de dados, cada ensaio tem duração de 5 segundos. Se utilizadas janelas com tamanho de 250 ms, resultará em 20 janelas. Ao aplicar uma sobreposição de ~128ms, ficamos com 41 janelas de ~122ms.\n",
    "\n",
    "Algumas características de EMG trabalham com o dado no domínio da frequência. Quando tais características são aplicadas, é necessário tranformar o dado para o domínio da frequência, utilizando o método de transformação de domínio `STFT`, do inglês *Short-time Fourier transform* (Transformada de Fourier de curto termo). O código divide o dado em segmentos, tanto no domínio do tempo quanto no domínio da frequência."
   ]
  },
  {
   "cell_type": "code",
   "execution_count": 10,
   "metadata": {},
   "outputs": [
    {
     "data": {
      "text/plain": [
       "array([[[ 1.1135820e+01, -3.3732762e+00,  2.1462999e+01, ...,\n",
       "          3.0357742e+00, -7.1096511e+00, -9.5652628e+00],\n",
       "        [ 3.7593274e+00,  1.3652233e+00, -3.9477463e+00, ...,\n",
       "         -1.4193622e+01,  2.2907005e+01, -7.0980725e+00],\n",
       "        [-1.0561596e+00,  9.3626366e+00, -1.9367222e+00, ...,\n",
       "          8.7861493e-02,  6.2952981e+00, -2.8334233e-01],\n",
       "        [ 5.8598485e+00,  6.5539212e+00, -5.5645032e+00, ...,\n",
       "         -1.9891384e+01, -2.2424119e+00,  3.9244108e+00]],\n",
       "\n",
       "       [[-1.1160199e+01, -7.7031106e-01, -2.1216917e+00, ...,\n",
       "          1.4439607e+01,  1.6906164e+01, -5.1118035e+00],\n",
       "        [ 1.5013824e+00,  1.2619434e+01,  1.3907468e+01, ...,\n",
       "          3.2696301e+01, -3.5210538e-01, -6.3649540e+00],\n",
       "        [-2.0097725e+01,  3.5749493e+00,  7.2583780e+00, ...,\n",
       "         -1.7456546e+00, -1.0357291e+00,  9.4702941e-01],\n",
       "        [ 3.4847982e+00,  3.3135300e+00,  2.1765718e+01, ...,\n",
       "         -1.7350679e+01, -6.6286831e+00,  1.7730516e+00]],\n",
       "\n",
       "       [[-1.5579151e+00,  2.6120999e+00, -2.3926101e+00, ...,\n",
       "         -5.4364963e+00, -4.4373865e+00, -2.6607630e+00],\n",
       "        [-8.7081146e+00, -5.2387295e+00,  9.7100620e+00, ...,\n",
       "          1.3210284e+01,  7.0028267e+00, -1.1574485e+01],\n",
       "        [ 2.1396830e+00, -1.0669741e+01,  7.1410899e+00, ...,\n",
       "         -3.1071538e-01,  2.0533346e-02,  1.3865799e-01],\n",
       "        [ 2.2028003e+00, -1.4809534e+01,  4.6902738e+00, ...,\n",
       "          3.3417850e+00, -9.8167610e+00, -1.3770458e+01]],\n",
       "\n",
       "       ...,\n",
       "\n",
       "       [[-6.0450888e+00,  7.1974105e-01,  1.2820277e+01, ...,\n",
       "          4.8496318e+00, -6.9574947e+00, -7.9691486e+00],\n",
       "        [-1.0431578e+00,  7.1201491e+00,  1.4767165e+01, ...,\n",
       "         -5.5511217e+00, -7.6720634e+00,  4.0383010e+00],\n",
       "        [-5.8749299e+00,  4.7715259e+00, -4.9620357e+00, ...,\n",
       "         -4.2842231e+00, -1.5115540e+01, -7.9249816e+00],\n",
       "        [ 1.0684986e+01,  2.4011364e+00,  1.7941792e+00, ...,\n",
       "          1.0414866e+01, -2.2677665e+00, -1.1879194e+01]],\n",
       "\n",
       "       [[ 1.1172230e+01, -4.7522941e+00, -9.9251251e+00, ...,\n",
       "          1.6372553e+01, -9.0862293e+00,  1.7723949e+01],\n",
       "        [ 1.3914109e+01, -9.7687521e+00,  1.1394038e+01, ...,\n",
       "          6.3964748e+00, -6.5397129e+00,  1.5879275e+00],\n",
       "        [-8.2448902e+00,  8.7403145e+00,  2.2362502e+00, ...,\n",
       "         -5.8482566e+00, -6.1089411e+00,  1.5450590e+01],\n",
       "        [-6.8484988e+00,  9.1142340e+00,  3.9014988e+00, ...,\n",
       "         -6.1189480e+00,  5.4039483e+00, -3.3145142e+00]],\n",
       "\n",
       "       [[-4.6630254e+00, -7.8164182e+00,  4.4872146e+00, ...,\n",
       "         -3.9988024e+00,  5.4614353e+00, -2.2336205e+01],\n",
       "        [-5.9866242e+00, -1.0107039e+00, -8.6794809e-02, ...,\n",
       "          3.2985885e+00, -9.3463411e+00, -8.7819319e+00],\n",
       "        [ 1.8408464e+00,  4.7372732e+00, -1.0454168e+00, ...,\n",
       "          5.6488342e+00, -2.2799061e+01, -1.5700143e+01],\n",
       "        [ 8.1442575e+00, -5.8376279e+00, -1.6311644e+01, ...,\n",
       "          1.5459145e+01,  7.0952797e+00,  8.2643402e-01]]], dtype=float32)"
      ]
     },
     "execution_count": 10,
     "metadata": {},
     "output_type": "execute_result"
    }
   ],
   "source": [
    "# Criando dados fictícios\n",
    "\n",
    "import numpy as np\n",
    "from scipy.signal import stft\n",
    "\n",
    "shape = (60, 4, 1000)\n",
    "data = np.random.normal(loc=0, scale=10, size=shape).astype(np.float32)\n",
    "data"
   ]
  },
  {
   "cell_type": "code",
   "execution_count": 11,
   "metadata": {},
   "outputs": [
    {
     "name": "stdout",
     "output_type": "stream",
     "text": [
      " (60, 4, 1000)\n",
      "Formato (shape) dos dados depois da divisão de janelas\n",
      "Dominio do tempo: (60, 4, 33, 64) - (classes+ensaios, canais, janelas, linhas)\n",
      "Dominio da frequência:  (60, 4, 33, 33) - (classes+ensaios, canais, janelas, linhas)\n"
     ]
    }
   ],
   "source": [
    "step = 29\n",
    "segment = 64\n",
    "print('', data.shape)\n",
    "\n",
    "n_win = int((data.shape[-1] - segment) / step) + 1\n",
    "ids = np.arange(n_win) * step\n",
    "\n",
    "# Janelas do dado no dominio do tempo\n",
    "chunks_time = np.array([data[:,:,k:(k + segment)] for k in ids]).transpose(1, 2, 0, 3)\n",
    "\n",
    "# Janelas do dado no domínio da frequência\n",
    "_, _, chunks_freq = stft(data, fs=200, nperseg=64, noverlap=32)\n",
    "chunks_freq = np.swapaxes(chunks_freq, 2, 3)\n",
    "\n",
    "print('Formato (shape) dos dados depois da divisão de janelas')\n",
    "print(f'Dominio do tempo: {chunks_time.shape} - (classes+ensaios, canais, janelas, linhas)')\n",
    "print(f'Dominio da frequência:  {chunks_freq.shape} - (classes+ensaios, canais, janelas, linhas)')"
   ]
  },
  {
   "cell_type": "markdown",
   "metadata": {},
   "source": [
    "##### Desafio: Implementar um algoritmo para encontrar a mesma quantidade de janelas em ambos os domínios (tempo e frequência)."
   ]
  },
  {
   "cell_type": "code",
   "execution_count": 12,
   "metadata": {},
   "outputs": [
    {
     "name": "stdout",
     "output_type": "stream",
     "text": [
      "Step 29\n",
      "Formato (shape) dos dados depois da divisão de janelas\n",
      "Dominio do tempo: (60, 4, 33, 64) - (classes+ensaios, canais, janelas, linhas)\n",
      "Dominio da frequência:  (60, 4, 33, 33) - (classes+ensaios, canais, janelas, linhas)\n"
     ]
    }
   ],
   "source": [
    "step = 1\n",
    "segment = 64\n",
    "chunks_time = None\n",
    "chunks_freq = None\n",
    "\n",
    "while True:\n",
    "    n_win = int((data.shape[-1] - segment) / step) + 1\n",
    "    ids = np.arange(n_win) * step\n",
    "\n",
    "    # Janelas do dado no dominio do tempo\n",
    "    chunks_time = np.array([data[:,:,k:(k + segment)] for k in ids]).transpose(1, 2, 0, 3)\n",
    "\n",
    "    # Janelas do dado no domínio da frequência\n",
    "    _, _, chunks_freq = stft(data, fs=200, nperseg=64, noverlap=32)\n",
    "    chunks_freq = np.swapaxes(chunks_freq, 2, 3)\n",
    "\n",
    "    if chunks_time.shape[2] == chunks_freq.shape[2]:\n",
    "        break\n",
    "    else:\n",
    "        step += 1\n",
    "\n",
    "print(\"Step\", step)\n",
    "print('Formato (shape) dos dados depois da divisão de janelas')\n",
    "print(f'Dominio do tempo: {chunks_time.shape} - (classes+ensaios, canais, janelas, linhas)')\n",
    "print(f'Dominio da frequência:  {chunks_freq.shape} - (classes+ensaios, canais, janelas, linhas)')"
   ]
  },
  {
   "cell_type": "code",
   "execution_count": null,
   "metadata": {},
   "outputs": [],
   "source": []
  }
 ],
 "metadata": {
  "kernelspec": {
   "display_name": "venv",
   "language": "python",
   "name": "python3"
  },
  "language_info": {
   "codemirror_mode": {
    "name": "ipython",
    "version": 3
   },
   "file_extension": ".py",
   "mimetype": "text/x-python",
   "name": "python",
   "nbconvert_exporter": "python",
   "pygments_lexer": "ipython3",
   "version": "3.8.10"
  }
 },
 "nbformat": 4,
 "nbformat_minor": 2
}
