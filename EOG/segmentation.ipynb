{
 "cells": [
  {
   "cell_type": "markdown",
   "metadata": {},
   "source": [
    "## Segmentação dos dados\n",
    "\n",
    "As características normalmente são extraídas sobre pequenos segmentos de tamanho fixo dos dados, não no dado como um todo. Estes pequenos segmentos são chamados de janelas. A técnica de separar os dados em janelas, recebe o nome de janela deslizante (*sliding window*) e é uma forma de segmentação de dados. Uma boa prática, é definir um passo para essa janela de forma que haja uma sopreposição de dados, para que informações da lacuna de uma janela e outra não sejam perdidas. Na imagem a seguir podemos observar um sinal EOG. Abaixo dele a representação de janelas: *W1*, *W2*, *W3*... Repare que entre as janelas, há uma sobreposição de tamanho *T*. \n",
    "\n",
    "Nesta base de dados, cada ensaio tem duração de 5 segundos. Se utilizadas janelas com tamanho de 250 ms, resultará em 20 janelas. Ao aplicar uma sobreposição de ~128ms, ficamos com 41 janelas de ~122ms.\n",
    "\n",
    "Algumas características de EMG trabalham com o dado no domínio da frequência. Quando tais características são aplicadas, é necessário tranformar o dado para o domínio da frequência, utilizando o método de transformação de domínio `STFT`, do inglês *Short-time Fourier transform* (Transformada de Fourier de curto termo). O código divide o dado em segmentos, tanto no domínio do tempo quanto no domínio da frequência."
   ]
  },
  {
   "cell_type": "code",
   "execution_count": 1,
   "metadata": {},
   "outputs": [
    {
     "data": {
      "text/plain": [
       "array([[[ -8.008673  ,  -0.58829546,  -9.858596  , ..., -17.889585  ,\n",
       "           1.2247854 , -17.577307  ],\n",
       "        [ -7.9405856 ,   6.960431  , -14.248193  , ...,  11.30431   ,\n",
       "          -7.5641656 ,  -4.5305576 ],\n",
       "        [-19.661911  , -13.885457  ,  23.848293  , ...,  -6.7502007 ,\n",
       "           3.5568554 ,  14.410712  ],\n",
       "        [  1.948189  ,   3.5041928 ,  10.999597  , ...,   6.238986  ,\n",
       "         -22.061977  ,  -6.980445  ]],\n",
       "\n",
       "       [[  5.683564  ,  11.982497  ,  -2.1020398 , ..., -10.473844  ,\n",
       "           3.3903453 ,   9.426042  ],\n",
       "        [ 11.419293  ,  -1.4191439 ,   1.0030504 , ...,  10.370554  ,\n",
       "           1.1101235 ,  -3.3117485 ],\n",
       "        [-12.956529  , -12.769783  ,   2.839849  , ...,   2.5993187 ,\n",
       "           4.512013  , -13.182432  ],\n",
       "        [-21.458878  , -13.739882  ,  -3.078786  , ...,  -1.0564513 ,\n",
       "           4.104175  ,   1.8604648 ]],\n",
       "\n",
       "       [[ -5.465092  ,  23.106627  ,  -6.7768335 , ...,  -2.4789748 ,\n",
       "          -0.4654307 ,  -4.797864  ],\n",
       "        [ -8.455839  ,   9.91243   ,  13.592353  , ..., -10.319856  ,\n",
       "         -20.968225  ,   3.9310625 ],\n",
       "        [ -2.4508958 ,   1.7922696 ,  -1.1269093 , ..., -13.144863  ,\n",
       "          -3.1409388 ,  12.248672  ],\n",
       "        [  2.1036687 ,   6.8084884 ,   2.4659898 , ...,  -9.133578  ,\n",
       "         -14.392388  ,  -4.43472   ]],\n",
       "\n",
       "       ...,\n",
       "\n",
       "       [[  4.488398  , -15.380958  ,  -3.4881358 , ...,  13.53951   ,\n",
       "         -17.491861  ,  -7.0565395 ],\n",
       "        [ -4.8616304 ,  -1.4964274 ,   2.8424425 , ...,   7.6623693 ,\n",
       "          -6.0797706 ,   5.6630692 ],\n",
       "        [ -8.472623  ,  -4.484725  ,   1.555797  , ..., -19.053448  ,\n",
       "           1.4862329 ,   4.957163  ],\n",
       "        [ -1.799273  ,  -5.75181   ,  12.580821  , ...,  -7.9160123 ,\n",
       "           3.2049863 ,   0.15529285]],\n",
       "\n",
       "       [[ 17.80682   , -14.1213    ,  -1.0613085 , ...,   1.6093904 ,\n",
       "           7.1926956 ,   8.607     ],\n",
       "        [  9.7773905 ,   1.2458597 ,   2.3530815 , ...,   0.36608088,\n",
       "          -3.5458965 , -13.441165  ],\n",
       "        [-11.131071  ,  -1.608369  ,   3.132312  , ..., -23.39993   ,\n",
       "          -1.4152894 ,  11.380261  ],\n",
       "        [ 12.72907   ,   1.8915924 ,  11.436539  , ...,   5.182716  ,\n",
       "          10.173501  ,  -1.2234848 ]],\n",
       "\n",
       "       [[  1.5714157 ,  -7.461728  , -13.25791   , ...,   1.3000548 ,\n",
       "          -7.172179  ,   1.0661718 ],\n",
       "        [  2.2940135 ,   4.4639387 ,   7.8579893 , ...,  -2.240669  ,\n",
       "          -9.171105  ,   6.3283577 ],\n",
       "        [-11.075244  ,  24.047146  ,  -6.313235  , ...,   2.6943247 ,\n",
       "           4.404553  ,  -1.6131254 ],\n",
       "        [  6.666709  , -17.019114  ,   0.20806599, ...,   0.85356796,\n",
       "           1.1785119 , -21.85324   ]]], dtype=float32)"
      ]
     },
     "execution_count": 1,
     "metadata": {},
     "output_type": "execute_result"
    }
   ],
   "source": [
    "# Criando dados fictícios\n",
    "\n",
    "import numpy as np\n",
    "from scipy.signal import stft\n",
    "\n",
    "shape = (60, 4, 1000)\n",
    "data = np.random.normal(loc=0, scale=10, size=shape).astype(np.float32)\n",
    "data"
   ]
  },
  {
   "cell_type": "code",
   "execution_count": 2,
   "metadata": {},
   "outputs": [
    {
     "name": "stdout",
     "output_type": "stream",
     "text": [
      " (60, 4, 1000)\n",
      "Formato (shape) dos dados depois da divisão de janelas\n",
      "Dominio do tempo: (60, 4, 33, 64) - (classes+ensaios, canais, janelas, linhas)\n",
      "Dominio da frequência:  (60, 4, 33, 33) - (classes+ensaios, canais, janelas, linhas)\n"
     ]
    }
   ],
   "source": [
    "step = 29\n",
    "segment = 64\n",
    "print('', data.shape)\n",
    "\n",
    "n_win = int((data.shape[-1] - segment) / step) + 1\n",
    "ids = np.arange(n_win) * step\n",
    "\n",
    "# Janelas do dado no dominio do tempo\n",
    "chunks_time = np.array([data[:,:,k:(k + segment)] for k in ids]).transpose(1, 2, 0, 3)\n",
    "\n",
    "# Janelas do dado no domínio da frequência\n",
    "_, _, chunks_freq = stft(data, fs=200, nperseg=64, noverlap=32)\n",
    "chunks_freq = np.swapaxes(chunks_freq, 2, 3)\n",
    "\n",
    "print('Formato (shape) dos dados depois da divisão de janelas')\n",
    "print(f'Dominio do tempo: {chunks_time.shape} - (classes+ensaios, canais, janelas, linhas)')\n",
    "print(f'Dominio da frequência:  {chunks_freq.shape} - (classes+ensaios, canais, janelas, linhas)')"
   ]
  },
  {
   "cell_type": "markdown",
   "metadata": {},
   "source": [
    "##### Desafio: Implementar um algoritmo para encontrar a mesma quantidade de janelas em ambos os domínios (tempo e frequência)."
   ]
  },
  {
   "cell_type": "code",
   "execution_count": 3,
   "metadata": {},
   "outputs": [
    {
     "name": "stdout",
     "output_type": "stream",
     "text": [
      "Step 29\n",
      "Formato (shape) dos dados depois da divisão de janelas\n",
      "Dominio do tempo: (60, 4, 33, 64) - (classes+ensaios, canais, janelas, linhas)\n",
      "Dominio da frequência:  (60, 4, 33, 33) - (classes+ensaios, canais, janelas, linhas)\n"
     ]
    }
   ],
   "source": [
    "step = 1\n",
    "segment = 64\n",
    "chunks_time = None\n",
    "chunks_freq = None\n",
    "\n",
    "\n",
    "\n",
    "while True:\n",
    "    n_win = int((data.shape[-1] - segment) / step) + 1\n",
    "    ids = np.arange(n_win) * step\n",
    "\n",
    "    # Janelas do dado no dominio do tempo\n",
    "    chunks_time = np.array([data[:,:,k:(k + segment)] for k in ids]).transpose(1, 2, 0, 3)\n",
    "\n",
    "    # Janelas do dado no domínio da frequência\n",
    "    _, _, chunks_freq = stft(data, fs=200, nperseg=64, noverlap=32)\n",
    "    chunks_freq = np.swapaxes(chunks_freq, 2, 3)\n",
    "\n",
    "    if chunks_time.shape[2] == chunks_freq.shape[2]:\n",
    "        break\n",
    "    else:\n",
    "        step += 1\n",
    "\n",
    "print(\"Step\", step)\n",
    "print('Formato (shape) dos dados depois da divisão de janelas')\n",
    "print(f'Dominio do tempo: {chunks_time.shape} - (classes+ensaios, canais, janelas, linhas)')\n",
    "print(f'Dominio da frequência:  {chunks_freq.shape} - (classes+ensaios, canais, janelas, linhas)')"
   ]
  },
  {
   "cell_type": "code",
   "execution_count": null,
   "metadata": {},
   "outputs": [],
   "source": []
  }
 ],
 "metadata": {
  "kernelspec": {
   "display_name": "venv",
   "language": "python",
   "name": "python3"
  },
  "language_info": {
   "codemirror_mode": {
    "name": "ipython",
    "version": 3
   },
   "file_extension": ".py",
   "mimetype": "text/x-python",
   "name": "python",
   "nbconvert_exporter": "python",
   "pygments_lexer": "ipython3",
   "version": "3.10.12"
  }
 },
 "nbformat": 4,
 "nbformat_minor": 2
}
