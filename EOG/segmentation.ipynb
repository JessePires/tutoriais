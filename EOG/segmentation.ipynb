{
 "cells": [
  {
   "cell_type": "markdown",
   "metadata": {},
   "source": [
    "## Segmentação dos dados\n",
    "\n",
    "As características normalmente são extraídas sobre pequenos segmentos de tamanho fixo dos dados, não no dado como um todo. Estes pequenos segmentos são chamados de janelas. A técnica de separar os dados em janelas, recebe o nome de janela deslizante (*sliding window*) e é uma forma de segmentação de dados. Uma boa prática, é definir um passo para essa janela de forma que haja uma sopreposição de dados, para que informações da lacuna de uma janela e outra não sejam perdidas. Na imagem a seguir podemos observar um sinal EOG. Abaixo dele a representação de janelas: *W1*, *W2*, *W3*... Repare que entre as janelas, há uma sobreposição de tamanho *T*. \n",
    "\n",
    "Nesta base de dados, cada ensaio tem duração de 5 segundos. Se utilizadas janelas com tamanho de 250 ms, resultará em 20 janelas. Ao aplicar uma sobreposição de ~128ms, ficamos com 41 janelas de ~122ms.\n",
    "\n",
    "Algumas características de EMG trabalham com o dado no domínio da frequência. Quando tais características são aplicadas, é necessário tranformar o dado para o domínio da frequência, utilizando o método de transformação de domínio `STFT`, do inglês *Short-time Fourier transform* (Transformada de Fourier de curto termo). O código divide o dado em segmentos, tanto no domínio do tempo quanto no domínio da frequência."
   ]
  },
  {
   "cell_type": "code",
   "execution_count": 1,
   "metadata": {},
   "outputs": [
    {
     "data": {
      "text/plain": [
       "array([[[-20.836552  ,  -1.6584346 ,  20.25262   , ...,   0.6781181 ,\n",
       "          17.318033  , -12.713826  ],\n",
       "        [ -3.558008  , -11.538439  ,   4.161698  , ..., -10.308053  ,\n",
       "           6.2273984 ,   4.3451786 ],\n",
       "        [  2.7505455 ,  -1.476811  ,   4.8636956 , ..., -12.071542  ,\n",
       "         -15.343374  ,   5.7298126 ],\n",
       "        [ -0.3083584 ,   4.712165  ,   1.7926382 , ...,  -7.1812344 ,\n",
       "          13.908837  ,   6.9197617 ]],\n",
       "\n",
       "       [[-19.634087  ,  -4.733812  ,  -2.8055975 , ...,  11.905098  ,\n",
       "          18.880293  ,   3.1591783 ],\n",
       "        [  2.1251023 ,  -2.9695451 ,  19.228174  , ...,  -6.009421  ,\n",
       "           4.8468537 ,   8.684569  ],\n",
       "        [  9.626363  ,  -0.928883  ,  -0.15095875, ...,  18.783323  ,\n",
       "          10.571573  ,  -2.331758  ],\n",
       "        [  0.752586  ,  -2.0381517 ,   7.2641845 , ...,   1.2997675 ,\n",
       "          -4.952633  ,  -5.950294  ]],\n",
       "\n",
       "       [[ -2.938553  , -11.159507  ,   8.4671135 , ...,   5.804802  ,\n",
       "         -13.580272  ,  -6.2263684 ],\n",
       "        [-10.293243  ,  14.74462   ,   8.987003  , ..., -14.651289  ,\n",
       "          15.699214  ,  -6.1302547 ],\n",
       "        [ 12.690072  ,   7.5974736 ,  -2.9736714 , ...,   3.4037347 ,\n",
       "          -5.1443543 ,  10.463773  ],\n",
       "        [ -8.013211  ,  12.364009  ,  -1.8538646 , ...,  -8.075732  ,\n",
       "          -4.96187   ,   4.676296  ]],\n",
       "\n",
       "       ...,\n",
       "\n",
       "       [[ 14.608518  ,   9.89684   ,   2.9860003 , ...,   5.2299747 ,\n",
       "          14.666848  ,   1.6948222 ],\n",
       "        [  1.1315821 ,  13.238783  ,  -8.397655  , ..., -16.574913  ,\n",
       "          18.476112  ,   1.9979548 ],\n",
       "        [  5.123303  , -13.111729  ,   6.8587832 , ...,  -0.3446112 ,\n",
       "          -2.4809654 ,  -6.764937  ],\n",
       "        [ 21.430553  ,   5.9481854 ,   6.3466578 , ...,   0.49859518,\n",
       "          10.247903  ,  -5.6077814 ]],\n",
       "\n",
       "       [[ -0.31077188, -30.241415  , -13.0402155 , ..., -10.916112  ,\n",
       "          -5.1994743 ,  -4.60156   ],\n",
       "        [ -5.1556616 ,  -2.6515307 ,  -7.5964675 , ...,   4.7120395 ,\n",
       "           5.8933806 ,  -6.1401634 ],\n",
       "        [  4.4710336 ,   9.739701  ,   3.3217447 , ..., -14.1532755 ,\n",
       "          10.312098  ,  -2.2098844 ],\n",
       "        [ 14.44047   , -11.984158  ,  12.144263  , ...,   2.4515953 ,\n",
       "          10.69203   ,  -4.331938  ]],\n",
       "\n",
       "       [[  6.342389  , -12.22468   ,  -4.703179  , ...,   1.8064237 ,\n",
       "           2.2699685 ,  -7.3523235 ],\n",
       "        [ -9.690419  ,   7.1801085 , -17.295004  , ...,  -6.0691366 ,\n",
       "           3.8775473 ,  -5.4660387 ],\n",
       "        [ 11.750033  ,  -4.7067013 ,   1.0348573 , ...,   6.0358987 ,\n",
       "           1.9787927 ,   2.8061237 ],\n",
       "        [ 11.434734  ,  11.668304  , -13.7198    , ...,  -0.0552468 ,\n",
       "          -4.836261  ,   2.911918  ]]], dtype=float32)"
      ]
     },
     "execution_count": 1,
     "metadata": {},
     "output_type": "execute_result"
    }
   ],
   "source": [
    "# Criando dados fictícios\n",
    "\n",
    "import numpy as np\n",
    "from scipy.signal import stft\n",
    "\n",
    "shape = (60, 4, 1000)\n",
    "data = np.random.normal(loc=0, scale=10, size=shape).astype(np.float32)\n",
    "data"
   ]
  },
  {
   "cell_type": "code",
   "execution_count": 2,
   "metadata": {},
   "outputs": [
    {
     "name": "stdout",
     "output_type": "stream",
     "text": [
      " (60, 4, 1000)\n",
      "Formato (shape) dos dados depois da divisão de janelas\n",
      "Dominio do tempo: (60, 4, 33, 64) - (classes+ensaios, canais, janelas, linhas)\n",
      "Dominio da frequência:  (60, 4, 33, 33) - (classes+ensaios, canais, janelas, linhas)\n"
     ]
    }
   ],
   "source": [
    "step = 29\n",
    "segment = 64\n",
    "print('', data.shape)\n",
    "\n",
    "n_win = int((data.shape[-1] - segment) / step) + 1\n",
    "ids = np.arange(n_win) * step\n",
    "\n",
    "# Janelas do dado no dominio do tempo\n",
    "chunks_time = np.array([data[:,:,k:(k + segment)] for k in ids]).transpose(1, 2, 0, 3)\n",
    "\n",
    "# Janelas do dado no domínio da frequência\n",
    "_, _, chunks_freq = stft(data, fs=200, nperseg=64, noverlap=32)\n",
    "chunks_freq = np.swapaxes(chunks_freq, 2, 3)\n",
    "\n",
    "print('Formato (shape) dos dados depois da divisão de janelas')\n",
    "print(f'Dominio do tempo: {chunks_time.shape} - (classes+ensaios, canais, janelas, linhas)')\n",
    "print(f'Dominio da frequência:  {chunks_freq.shape} - (classes+ensaios, canais, janelas, linhas)')"
   ]
  },
  {
   "cell_type": "markdown",
   "metadata": {},
   "source": [
    "##### Desafio: Implementar um algoritmo para encontrar a mesma quantidade de janelas em ambos os domínios (tempo e frequência)."
   ]
  },
  {
   "cell_type": "code",
   "execution_count": 3,
   "metadata": {},
   "outputs": [
    {
     "name": "stdout",
     "output_type": "stream",
     "text": [
      "Step 29\n",
      "Formato (shape) dos dados depois da divisão de janelas\n",
      "Dominio do tempo: (60, 4, 33, 64) - (classes+ensaios, canais, janelas, linhas)\n",
      "Dominio da frequência:  (60, 4, 33, 33) - (classes+ensaios, canais, janelas, linhas)\n"
     ]
    }
   ],
   "source": [
    "step = 1\n",
    "segment = 64\n",
    "chunks_time = None\n",
    "chunks_freq = None\n",
    "\n",
    "\n",
    "\n",
    "while True:\n",
    "    n_win = int((data.shape[-1] - segment) / step) + 1\n",
    "    ids = np.arange(n_win) * step\n",
    "\n",
    "    # Janelas do dado no dominio do tempo\n",
    "    chunks_time = np.array([data[:,:,k:(k + segment)] for k in ids]).transpose(1, 2, 0, 3)\n",
    "\n",
    "    # Janelas do dado no domínio da frequência\n",
    "    _, _, chunks_freq = stft(data, fs=200, nperseg=64, noverlap=32)\n",
    "    chunks_freq = np.swapaxes(chunks_freq, 2, 3)\n",
    "\n",
    "    if chunks_time.shape[2] == chunks_freq.shape[2]:\n",
    "        break\n",
    "    else:\n",
    "        step += 1\n",
    "\n",
    "print(\"Step\", step)\n",
    "print('Formato (shape) dos dados depois da divisão de janelas')\n",
    "print(f'Dominio do tempo: {chunks_time.shape} - (classes+ensaios, canais, janelas, linhas)')\n",
    "print(f'Dominio da frequência:  {chunks_freq.shape} - (classes+ensaios, canais, janelas, linhas)')"
   ]
  },
  {
   "cell_type": "code",
   "execution_count": null,
   "metadata": {},
   "outputs": [],
   "source": []
  }
 ],
 "metadata": {
  "kernelspec": {
   "display_name": "venv",
   "language": "python",
   "name": "python3"
  },
  "language_info": {
   "codemirror_mode": {
    "name": "ipython",
    "version": 3
   },
   "file_extension": ".py",
   "mimetype": "text/x-python",
   "name": "python",
   "nbconvert_exporter": "python",
   "pygments_lexer": "ipython3",
   "version": "3.8.10"
  }
 },
 "nbformat": 4,
 "nbformat_minor": 2
}
