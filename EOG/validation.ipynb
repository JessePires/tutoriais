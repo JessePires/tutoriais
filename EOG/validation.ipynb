{
 "cells": [
  {
   "cell_type": "markdown",
   "metadata": {},
   "source": [
    "## Validação dos dados EOG\n",
    "\n",
    "Neste notebook está incluído os seguintes passos:\n",
    "- Aplicação de características;\n",
    "- Criação do vetor de características;\n",
    "- Normalização de dados;\n",
    "- Seleção de características;\n",
    "- Classificação dos dados."
   ]
  },
  {
   "cell_type": "markdown",
   "metadata": {},
   "source": [
    "Uma característica é uma propriedade individual mensurável ou característica de um fenômeno que está sendo observado. Em nosso caso de EOG, uma característica pode ser extraída no domínio do tempo ou no domínio da frequência. As características a seguir foram retiradas do artigo *EMG Feature Extraction for Tolerance of White Gaussian Noise* \\[1\\]."
   ]
  },
  {
   "cell_type": "markdown",
   "metadata": {},
   "source": [
    "#### Domínio do tempo\n",
    "\n",
    "1. Willison Amplitude (WAMP)\n",
    "\n",
    "    > $ \\sum_{i=1}^{N-1}f(|x_i - x_{i+1}|) $\n",
    "    \n",
    "    > $ f(x) = \\begin{cases} 1 & \\text{if } x \\gt threshold \\\\ 0 & \\text{otherwise} \\end{cases} $\n",
    "\n",
    "2. Variance of EMG (VAR)\n",
    "\n",
    "    > $ \\frac{1}{N-1}\\sum_{i=1}^{N}x_i^2 $\n",
    "\n",
    "3. Root Mean Square (RMS)\n",
    "\n",
    "    > $ \\sqrt{\\frac{1}{N}\\sum_{i=1}^{N}|x_i|^2} $\n",
    "\n",
    "4. Waveform Length (WL)\n",
    "    \n",
    "    > $ \\sum_{i=1}^{N-1}|x_{i+1} - x_i| $\n",
    "\n",
    "5. Zero Crossing (ZC)\n",
    "\n",
    "    > $ \\sum_{i=1}^{N}sgn(x_i) $\n",
    "    \n",
    "    > $ sgn(x) = \\begin{cases} 1 & \\text{if } x_i * x_{i+1} \\leq 0 \\\\ 0 & \\text{otherwise} \\end{cases} $"
   ]
  },
  {
   "cell_type": "markdown",
   "metadata": {},
   "source": [
    "#### Domínio da frequência\n",
    "\n",
    "1. Median Frequency (FMD)\n",
    "\n",
    "    > $ \\frac{1}{2}\\sum_{j=1}^{M}PSD_j $\n",
    "\n",
    "2. Mean Frequency (FMN)\n",
    "\n",
    "    > $\\sum_{j=1}^{M}f_j PSD_j / \\sum_{j=1}^{M}PSD_j$\n",
    "    \n",
    "    > $ f_j = j * SampleRate / 2 * M $\n",
    "\n",
    "3. Modified Median Frequency (MMDF)\n",
    "\n",
    "    > $ \\frac{1}{2}\\sum_{j=1}^{M}A_j $\n",
    "    \n",
    "    > $ A_j = Amplitude\\ do\\ espectro\\ j $\n",
    "\n",
    "4. Modified Frequency Mean (MMNF)\n",
    "\n",
    "    > $ \\sum_{j=1}^{M}f_jAj / \\sum_{j=1}^{M}Aj $\n",
    "\n",
    "\n",
    "\\[1\\] Phinyomark, Angkoon & Limsakul, Chusak & Phukpattaranont, P.. (2008). EMG Feature Extraction for Tolerance of White Gaussian Noise.\n",
    "[Disponível neste link](https://www.researchgate.net/publication/263765853_EMG_Feature_Extraction_for_Tolerance_of_White_Gaussian_Noise)\n",
    "\n",
    "**Tarefa 1**: Descrever as características de acordo com o artigo citado e outros disponíveis relacionados. O que está querendo \"ser visto\" em cada característica? Qual é o significado matemático de cada uma delas?"
   ]
  },
  {
   "cell_type": "markdown",
   "metadata": {},
   "source": [
    "#### Aplicando as características\n",
    "\n",
    "É necessário implementar as características, geralmente em formato de funções ou métodos, para que seja possível aplicar tais funções aos dados de entrada e obter as características resultantes. A seguir temos a implementação das características `VAR` & `RMS` (domínio do tempo) e `FDM` & `MMDF` (domínio da frequência)."
   ]
  },
  {
   "cell_type": "code",
   "execution_count": 20,
   "metadata": {},
   "outputs": [],
   "source": [
    "from math import prod\n",
    "import numpy as np\n",
    "from sklearn.preprocessing import StandardScaler, LabelEncoder\n",
    "\n",
    "# funções auxiliares\n",
    "def PSD(w):\n",
    "    ''' definição da função PSD para o sinal no domínio da frequência '''\n",
    "    return np.abs(w) ** 2\n",
    "\n",
    "\n",
    "# funções de extração de características\n",
    "\n",
    "def var(x):\n",
    "    return np.sum(x ** 2, axis=-1) / (np.prod(x.shape) - 1)\n",
    "\n",
    "def rms(x):\n",
    "    return np.sqrt(np.sum(np.abs(x) ** 2, axis=-1) / (np.prod(x.shape) - 1))\n",
    "\n",
    "def fmd(w):\n",
    "    return np.sum(PSD(w), axis=-1) / 2\n",
    "\n",
    "def mmdf(w):\n",
    "    return np.sum(np.abs(w), axis=-1) / 2\n",
    "\n",
    "def wl(x):\n",
    "    return np.sum(np.abs(np.diff(x, axis=-1)), axis=-1)\n",
    "\n",
    "def zc(x):\n",
    "    return np.count_nonzero(np.diff(np.sign(x), axis=-1) != 0, axis=-1)\n"
   ]
  },
  {
   "cell_type": "markdown",
   "metadata": {},
   "source": [
    "**Tarefa 2**: Implemente todas as características apresentadas neste tutorial em formato de funções. Sinta-se livre também para buscar e implementar características além das apresentadas, citando as fontes de tais características.\n",
    "\n",
    "\n",
    "#### Vetor de características\n",
    "\n",
    "Ao final da implementação e seleção das características, deve ser escolhida as características e então teremos um vetor com todas elas implementadas.\n",
    "\n",
    "O vetor de características estará organizado da seguinte forma (exemplo p/ VAR, RMS, RDM e MMDF):\n",
    "\n",
    "| ID sample | VAR1 | RMS1 | FMD1 | MMDF1 | VAR2 | RMS2 | FMD2 | MMDF2 | Classe |\n",
    "|:---------:|:----:|:----:|:----:|:-----:|------|------|------|-------|:------:|\n",
    "|     1     |  v1  |  v1  |  v1  |   v1  | v1   | v1   | v1   | v1    |    0   |\n",
    "|     2     |  v2  |  v2  |  v2  |   v2  | v2   | v2   | v2   | v2    |    0   |\n",
    "|    ...    |  ... |  ... |  ... |  ...  | ...  | ...  | ...  | ...   |   ...  |\n",
    "|     N     |  vN  |  vN  |  vN  |   vN  | vN   | vN   | vN   | vN    |    7   |\n",
    "\n",
    "#### Implementação do vetor"
   ]
  },
  {
   "cell_type": "code",
   "execution_count": 21,
   "metadata": {},
   "outputs": [
    {
     "name": "stdout",
     "output_type": "stream",
     "text": [
      "Shape dos vetores orginais: (28, 33, 2, 64) (28, 33, 2, 33)\n"
     ]
    },
    {
     "data": {
      "text/plain": [
       "((28, 33, 2), (28, 33, 2), (28, 33, 2), (28, 33, 2))"
      ]
     },
     "execution_count": 21,
     "metadata": {},
     "output_type": "execute_result"
    }
   ],
   "source": [
    "# carregando dados do \"prepare.ipynb\"\n",
    "\n",
    "time_all = np.load(\"./datasets/all_time.npy\")\n",
    "freq_all = np.load(\"./datasets/all_freq.npy\")\n",
    "\n",
    "# print(\"time_all\", time_all.shape, freq_all.shape)\n",
    "\n",
    "time = np.load(\"./datasets/gabi_time.npy\")\n",
    "freq = np.load(\"./datasets/gabi_freq.npy\")\n",
    "\n",
    "print(\"Shape dos vetores orginais:\", time.shape, freq.shape)\n",
    "\n",
    "# aplicando características\n",
    "\n",
    "data_var = var(time)\n",
    "data_rms = rms(time)\n",
    "data_wl = wl(time)\n",
    "\n",
    "data_fmd = fmd(freq)\n",
    "data_mmdf = mmdf(freq)\n",
    "data_zc = zc(freq)\n",
    "\n",
    "\n",
    "data_var.shape, data_rms.shape, data_fmd.shape, data_mmdf.shape\n"
   ]
  },
  {
   "cell_type": "markdown",
   "metadata": {},
   "source": [
    "### Todos os individuos"
   ]
  },
  {
   "cell_type": "code",
   "execution_count": 22,
   "metadata": {},
   "outputs": [
    {
     "name": "stdout",
     "output_type": "stream",
     "text": [
      "features_all (4, 2, 28, 33, 2)\n",
      "features_all (2, 33, 28, 4, 2)\n"
     ]
    },
    {
     "data": {
      "text/plain": [
       "(1848, 8)"
      ]
     },
     "execution_count": 22,
     "metadata": {},
     "output_type": "execute_result"
    }
   ],
   "source": [
    "# União do vetor de características inicial\n",
    "features_all = np.array([var(time_all), rms(time_all), fmd(freq_all), mmdf(freq_all)])\n",
    "\n",
    "print(\"features_all\", features_all.shape)\n",
    "\n",
    "# organização das dimensões\n",
    "features_all = features_all.transpose(1, 3, 2, 0, 4)\n",
    "print(\"features_all\", features_all.shape)\n",
    "\n",
    "# criar vetor de características definitivo\n",
    "feature_reshaped = features_all.reshape(features_all.shape[0],  features_all.shape[1] * features_all.shape[2],  features_all.shape[3] * features_all.shape[4])\n",
    "feature_reshaped = feature_reshaped.reshape(feature_reshaped.shape[0] * feature_reshaped.shape[1], feature_reshaped.shape[2])\n",
    "feature_reshaped.shape"
   ]
  },
  {
   "cell_type": "markdown",
   "metadata": {},
   "source": [
    "### Um individuo"
   ]
  },
  {
   "cell_type": "code",
   "execution_count": 23,
   "metadata": {},
   "outputs": [
    {
     "name": "stdout",
     "output_type": "stream",
     "text": [
      "(6, 28, 33, 2)\n",
      "(33, 28, 6, 2)\n"
     ]
    },
    {
     "data": {
      "text/plain": [
       "(924, 12)"
      ]
     },
     "execution_count": 23,
     "metadata": {},
     "output_type": "execute_result"
    }
   ],
   "source": [
    "\n",
    "\n",
    "# 1 INDIVIDUO\n",
    "\n",
    "# União do vetor de características inicial\n",
    "features = np.array([data_var, data_rms, data_fmd, data_mmdf, data_wl, data_zc])\n",
    "print(features.shape)\n",
    "\n",
    "# organização das dimensões\n",
    "features = features.transpose(2, 1, 0, 3)\n",
    "print(features.shape)\n",
    "\n",
    "# # criar vetor de características definitivo\n",
    "features = features.reshape(features.shape[0] * features.shape[1], features.shape[2] * features.shape[3])\n",
    "\n",
    "features.shape"
   ]
  },
  {
   "cell_type": "markdown",
   "metadata": {},
   "source": [
    "*Tarefa 3*: Realização da normalização dos dados utilizando ferramentas já conhecidas"
   ]
  },
  {
   "cell_type": "code",
   "execution_count": 16,
   "metadata": {},
   "outputs": [],
   "source": [
    "# aplicando normalização\n",
    "ss_X = StandardScaler().fit_transform(features)\n",
    "\n",
    "# código"
   ]
  },
  {
   "cell_type": "markdown",
   "metadata": {},
   "source": [
    "*Tarefa 4*: Realização da seleção de características, utilizando ferramentas já conhecidas"
   ]
  },
  {
   "cell_type": "markdown",
   "metadata": {},
   "source": [
    "Criação do vetor de *labels*"
   ]
  },
  {
   "cell_type": "code",
   "execution_count": 17,
   "metadata": {},
   "outputs": [
    {
     "name": "stdout",
     "output_type": "stream",
     "text": [
      "labels_num 28\n"
     ]
    },
    {
     "data": {
      "text/plain": [
       "924"
      ]
     },
     "execution_count": 17,
     "metadata": {},
     "output_type": "execute_result"
    }
   ],
   "source": [
    "labels_str = ['dir', 'esq', 'cima', 'baixo', 'cima', 'baixo',\n",
    "'baixo', 'esq', 'dir', 'baixo', 'dir', 'dir', 'esq', 'cima',\n",
    "'baixo', 'cima', 'esq', 'dir', 'cima', 'esq', 'baixo', 'esq',\n",
    "'dir', 'esq', 'cima', 'dir', 'cima', 'baixo']\n",
    "\n",
    "# transformando para numérico\n",
    "lab_dict = {'dir': 0, 'esq': 1, 'cima': 2, 'baixo': 3}\n",
    "labels_num = [lab_dict[item] for item in labels_str]\n",
    "print('labels_num', len(labels_num))\n",
    "\n",
    "# criação do vetor de labels final\n",
    "y = np.repeat(labels_num, int(features.shape[0] / len(labels_num)), axis=-1)\n",
    "len(y)"
   ]
  },
  {
   "cell_type": "code",
   "execution_count": 18,
   "metadata": {},
   "outputs": [
    {
     "name": "stdout",
     "output_type": "stream",
     "text": [
      "Treino\t-------\t (739, 1)\n",
      "Teste\t-------\t (185, 1) \n",
      "\n"
     ]
    },
    {
     "name": "stdout",
     "output_type": "stream",
     "text": [
      "Acurácia > 0.25405405405405407 \n",
      "\n",
      "Treino\t-------\t (739, 2)\n",
      "Teste\t-------\t (185, 2) \n",
      "\n",
      "Acurácia > 0.2918918918918919 \n",
      "\n",
      "Treino\t-------\t (739, 3)\n",
      "Teste\t-------\t (185, 3) \n",
      "\n",
      "Acurácia > 0.372972972972973 \n",
      "\n",
      "Treino\t-------\t (739, 4)\n",
      "Teste\t-------\t (185, 4) \n",
      "\n",
      "Acurácia > 0.33513513513513515 \n",
      "\n",
      "Treino\t-------\t (739, 5)\n",
      "Teste\t-------\t (185, 5) \n",
      "\n",
      "Acurácia > 0.33513513513513515 \n",
      "\n",
      "Treino\t-------\t (739, 6)\n",
      "Teste\t-------\t (185, 6) \n",
      "\n",
      "Acurácia > 0.3675675675675676 \n",
      "\n",
      "Treino\t-------\t (739, 7)\n",
      "Teste\t-------\t (185, 7) \n",
      "\n",
      "Acurácia > 0.34054054054054056 \n",
      "\n",
      "Treino\t-------\t (739, 8)\n",
      "Teste\t-------\t (185, 8) \n",
      "\n",
      "Acurácia > 0.34054054054054056 \n",
      "\n",
      "Treino\t-------\t (739, 9)\n",
      "Teste\t-------\t (185, 9) \n",
      "\n",
      "Acurácia > 0.3567567567567568 \n",
      "\n",
      "Treino\t-------\t (739, 10)\n",
      "Teste\t-------\t (185, 10) \n",
      "\n",
      "Acurácia > 0.35135135135135137 \n",
      "\n",
      "Treino\t-------\t (739, 11)\n",
      "Teste\t-------\t (185, 11) \n",
      "\n",
      "Acurácia > 0.3783783783783784 \n",
      "\n",
      "Treino\t-------\t (739, 12)\n",
      "Teste\t-------\t (185, 12) \n",
      "\n",
      "Acurácia > 0.34594594594594597 \n",
      "\n"
     ]
    }
   ],
   "source": [
    "# aplicando seleção de características\n",
    "from sklearn.feature_selection import SelectKBest, chi2, f_regression, f_classif\n",
    "import numpy as np\n",
    "from sklearn import svm, metrics\n",
    "from sklearn.decomposition import PCA\n",
    "from sklearn.preprocessing import StandardScaler\n",
    "from sklearn.model_selection import GridSearchCV, train_test_split\n",
    "from sklearn.feature_selection import VarianceThreshold, SelectKBest, RFE, f_classif\n",
    "\n",
    "max_k = ss_X.shape[1]\n",
    "\n",
    "for k in range(1, max_k + 1):\n",
    "    X_new_ss = SelectKBest(f_classif, k=k).fit_transform(ss_X, y)\n",
    "    x_train, x_test, y_train, y_test = train_test_split(X_new_ss, y, test_size=0.2, random_state=42)\n",
    "    print('Treino\\t-------\\t', x_train.shape)\n",
    "    print('Teste\\t-------\\t', x_test.shape, \"\\n\")\n",
    "\n",
    "    param_grid = [\n",
    "        {'C': [0.1, 1, 10, 100, 1000], 'kernel': ['linear']},\n",
    "        {'C': [0.1, 1, 10, 100], 'gamma': [1, 0.1, 0.01, 0.001], 'kernel': ['linear', 'rbf', 'poly']},\n",
    "    ]\n",
    "\n",
    "    grid = GridSearchCV(svm.SVC(), param_grid, cv=5)\n",
    "    grid.fit(x_train, y_train)\n",
    "\n",
    "    # Predição\n",
    "    y_pred = grid.predict(x_test)\n",
    "    print('Acurácia >', metrics.accuracy_score(y_test, y_pred), '\\n')"
   ]
  },
  {
   "cell_type": "markdown",
   "metadata": {},
   "source": [
    "*Tarefa 5*: Realização da classificação utilizando `SVM`."
   ]
  },
  {
   "cell_type": "code",
   "execution_count": 19,
   "metadata": {},
   "outputs": [],
   "source": [
    "# aplicando a classificação\n",
    "\n",
    "# código"
   ]
  }
 ],
 "metadata": {
  "kernelspec": {
   "display_name": "venv",
   "language": "python",
   "name": "python3"
  },
  "language_info": {
   "codemirror_mode": {
    "name": "ipython",
    "version": 3
   },
   "file_extension": ".py",
   "mimetype": "text/x-python",
   "name": "python",
   "nbconvert_exporter": "python",
   "pygments_lexer": "ipython3",
   "version": "3.10.12"
  }
 },
 "nbformat": 4,
 "nbformat_minor": 2
}
